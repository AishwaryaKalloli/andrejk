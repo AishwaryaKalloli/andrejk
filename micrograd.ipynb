{
  "nbformat": 4,
  "nbformat_minor": 0,
  "metadata": {
    "colab": {
      "provenance": [],
      "authorship_tag": "ABX9TyPhaWxF8PcShc1tVNjwUU98",
      "include_colab_link": true
    },
    "kernelspec": {
      "name": "python3",
      "display_name": "Python 3"
    },
    "language_info": {
      "name": "python"
    }
  },
  "cells": [
    {
      "cell_type": "markdown",
      "metadata": {
        "id": "view-in-github",
        "colab_type": "text"
      },
      "source": [
        "<a href=\"https://colab.research.google.com/github/AishwaryaKalloli/andrejk/blob/main/micrograd.ipynb\" target=\"_parent\"><img src=\"https://colab.research.google.com/assets/colab-badge.svg\" alt=\"Open In Colab\"/></a>"
      ]
    },
    {
      "cell_type": "code",
      "execution_count": null,
      "metadata": {
        "id": "hpfaaDrsSfie",
        "colab": {
          "base_uri": "https://localhost:8080/"
        },
        "outputId": "e0b08552-1197-42ff-efeb-b2ecfcfa522d"
      },
      "outputs": [
        {
          "output_type": "stream",
          "name": "stdout",
          "text": [
            "Collecting micrograd\n",
            "  Downloading micrograd-0.1.0-py3-none-any.whl.metadata (2.6 kB)\n",
            "Downloading micrograd-0.1.0-py3-none-any.whl (4.9 kB)\n",
            "Installing collected packages: micrograd\n",
            "Successfully installed micrograd-0.1.0\n"
          ]
        }
      ],
      "source": [
        "# !pip install micrograd"
      ]
    },
    {
      "cell_type": "code",
      "source": [
        "from micrograd.engine import Value"
      ],
      "metadata": {
        "id": "nrnkg7Vw_v4X"
      },
      "execution_count": null,
      "outputs": []
    },
    {
      "cell_type": "code",
      "source": [
        "a = Value(-4.0)\n",
        "b = Value(2.0)\n",
        "c = a + b\n",
        "d = a * b + b**3\n",
        "c += 1\n",
        "c = 1 + c - a\n",
        "print(f\"a: {a}, b: {b}, c: {c}, d: {d}\")\n",
        "d += d * 2 + (b + a).relu()\n",
        "print(f\"a: {a}, b: {b}, c: {c}, d: {d}\")\n",
        "d += 3 * d + (b - a).relu()\n",
        "print(f\"a: {a}, b: {b}, c: {c}, d: {d}\")\n",
        "e = c - d\n",
        "f = e ** 2\n",
        "g = 10.0 / f\n",
        "print(f\"a: {a}, b: {b}, c: {c}, d: {d}, e: {e}, f: {f}, g: {g}\")\n",
        "print(f\"a: {a.grad:.4f}, b: {b.grad:.4f}, c: {c.grad:.4f}, d: {d.grad:.4f}, e: {e.grad:.4f}, f: {f.grad:.4f}, g: {g.grad:.4f}\")\n",
        "g.backward()\n",
        "print(f\"a: {a}, b: {b}, c: {c}, d: {d}, e: {e}, f: {f}, g: {g}\")\n",
        "print(f\"a: {a.grad:.4f}, b: {b.grad:.4f}, c: {c.grad:.4f}, d: {d.grad:.4f}, e: {e.grad:.4f}, f: {f.grad:.4f}, g: {g.grad:.4f}\")"
      ],
      "metadata": {
        "colab": {
          "base_uri": "https://localhost:8080/"
        },
        "id": "kUyGLpnJ_2wr",
        "outputId": "a687c997-5c7b-4284-fda8-852f0648d383"
      },
      "execution_count": null,
      "outputs": [
        {
          "output_type": "stream",
          "name": "stdout",
          "text": [
            "a: Value(data=-4.0, grad=0), b: Value(data=2.0, grad=0), c: Value(data=4.0, grad=0), d: Value(data=0.0, grad=0)\n",
            "a: Value(data=-4.0, grad=0), b: Value(data=2.0, grad=0), c: Value(data=4.0, grad=0), d: Value(data=0.0, grad=0)\n",
            "a: Value(data=-4.0, grad=0), b: Value(data=2.0, grad=0), c: Value(data=4.0, grad=0), d: Value(data=6.0, grad=0)\n",
            "a: Value(data=-4.0, grad=0), b: Value(data=2.0, grad=0), c: Value(data=4.0, grad=0), d: Value(data=6.0, grad=0), e: Value(data=-2.0, grad=0), f: Value(data=4.0, grad=0), g: Value(data=2.5, grad=0)\n",
            "a: 0.0000, b: 0.0000, c: 0.0000, d: 0.0000, e: 0.0000, f: 0.0000, g: 0.0000\n",
            "a: Value(data=-4.0, grad=-57.5), b: Value(data=2.0, grad=-240.0), c: Value(data=4.0, grad=2.5), d: Value(data=6.0, grad=-2.5), e: Value(data=-2.0, grad=2.5), f: Value(data=4.0, grad=-0.625), g: Value(data=2.5, grad=1)\n",
            "a: -57.5000, b: -240.0000, c: 2.5000, d: -2.5000, e: 2.5000, f: -0.6250, g: 1.0000\n"
          ]
        }
      ]
    },
    {
      "cell_type": "code",
      "source": [
        "import math\n",
        "import numpy as np\n",
        "import matplotlib.pyplot as plt\n",
        "%matplotlib inline"
      ],
      "metadata": {
        "id": "5-Vd6Nsh_7L0"
      },
      "execution_count": null,
      "outputs": []
    },
    {
      "cell_type": "code",
      "source": [
        "def f(x):\n",
        "    return 3 * x ** 2 - 4 * x + 5"
      ],
      "metadata": {
        "id": "nZq0WrDAECht"
      },
      "execution_count": null,
      "outputs": []
    },
    {
      "cell_type": "code",
      "source": [
        "f(3.0)"
      ],
      "metadata": {
        "colab": {
          "base_uri": "https://localhost:8080/"
        },
        "id": "BqERwf8iEIlD",
        "outputId": "1fcd8503-9ca0-4cfe-c947-474fe91e5b05"
      },
      "execution_count": null,
      "outputs": [
        {
          "output_type": "execute_result",
          "data": {
            "text/plain": [
              "20.0"
            ]
          },
          "metadata": {},
          "execution_count": 8
        }
      ]
    },
    {
      "cell_type": "code",
      "source": [
        "xs = np.arange(-5, 5, 0.25)\n",
        "ys = f(xs)\n",
        "plt.plot(xs, ys)"
      ],
      "metadata": {
        "colab": {
          "base_uri": "https://localhost:8080/",
          "height": 447
        },
        "id": "Tri9oxY6EJa7",
        "outputId": "1671d35a-8f20-4bd2-e701-c7cfb2ccc84c"
      },
      "execution_count": null,
      "outputs": [
        {
          "output_type": "execute_result",
          "data": {
            "text/plain": [
              "[<matplotlib.lines.Line2D at 0x7cfd271671a0>]"
            ]
          },
          "metadata": {},
          "execution_count": 9
        },
        {
          "output_type": "display_data",
          "data": {
            "text/plain": [
              "<Figure size 640x480 with 1 Axes>"
            ],
            "image/png": "[encoded data removed]"
          },
          "metadata": {}
        }
      ]
    },
    {
      "cell_type": "code",
      "source": [
        "h = 0.0000001\n",
        "x = 2/3\n",
        "(f(x + h) - f(x)) / h"
      ],
      "metadata": {
        "colab": {
          "base_uri": "https://localhost:8080/"
        },
        "id": "-wmwASVUEVNL",
        "outputId": "60c45ef6-3898-47b4-8389-05c71e57c2ca"
      },
      "execution_count": null,
      "outputs": [
        {
          "output_type": "execute_result",
          "data": {
            "text/plain": [
              "2.9753977059954195e-07"
            ]
          },
          "metadata": {},
          "execution_count": 10
        }
      ]
    },
    {
      "cell_type": "code",
      "source": [
        "a = 2.0\n",
        "b = -3.0\n",
        "c = 10.0\n",
        "d = a * b + c\n",
        "print(d)"
      ],
      "metadata": {
        "colab": {
          "base_uri": "https://localhost:8080/"
        },
        "id": "_lIJRMyWFLLj",
        "outputId": "5cb2dc67-2d10-491d-e572-bc2cb9b60e7c"
      },
      "execution_count": null,
      "outputs": [
        {
          "output_type": "stream",
          "name": "stdout",
          "text": [
            "4.0\n"
          ]
        }
      ]
    },
    {
      "cell_type": "code",
      "source": [
        "h = 0.0001\n",
        "\n",
        "# inputs\n",
        "a = 2.0\n",
        "b = -3.0\n",
        "c = 10.0\n",
        "\n",
        "# derivative w.r.t to a\n",
        "d1 = a * b + c\n",
        "c += h\n",
        "d2 = a * b + c\n",
        "\n",
        "print(\"d1\", d1)\n",
        "print(\"d2\", d2)\n",
        "print(\"slope\", (d2 - d1) / h)"
      ],
      "metadata": {
        "colab": {
          "base_uri": "https://localhost:8080/"
        },
        "id": "8VMHzabGF7Br",
        "outputId": "a135a885-10cc-4701-86f7-80981b714384"
      },
      "execution_count": null,
      "outputs": [
        {
          "output_type": "stream",
          "name": "stdout",
          "text": [
            "d1 4.0\n",
            "d2 4.0001\n",
            "slope 0.9999999999976694\n"
          ]
        }
      ]
    },
    {
      "cell_type": "code",
      "source": [
        "class Value:\n",
        "    def __init__(self, data, _children=(), _op='', label=''):\n",
        "        self.data = data\n",
        "        self.grad = 0.0\n",
        "        self._backward = lambda: None\n",
        "        self._prev = set(_children)\n",
        "        self._op = _op\n",
        "        self.label = label\n",
        "\n",
        "    def __repr__(self):\n",
        "        return f\"Value(data={self.data}, label={self.label})\"\n",
        "\n",
        "    def __add__(self, other):\n",
        "        other = other if isinstance(other, Value) else Value(other)\n",
        "\n",
        "        out = Value(self.data + other.data, (self, other), '+')\n",
        "\n",
        "        def _backward():\n",
        "            self.grad += 1.0 * out.grad\n",
        "            other.grad += 1.0 * out.grad\n",
        "\n",
        "        out._backward = _backward\n",
        "        return out\n",
        "\n",
        "    def __radd__(self, other):\n",
        "        return self + other\n",
        "\n",
        "    def __mul__(self, other):\n",
        "        other = other if isinstance(other, Value) else Value(other)\n",
        "\n",
        "        out = Value(self.data * other.data, (self, other), '*')\n",
        "\n",
        "        def _backward():\n",
        "            self.grad += other.data * out.grad\n",
        "            other.grad += self.data * out.grad\n",
        "\n",
        "        out._backward = _backward\n",
        "        return out\n",
        "\n",
        "    def __rmul__(self, other):\n",
        "        return self * other\n",
        "\n",
        "    def __neg__(self):\n",
        "        return self * -1\n",
        "\n",
        "    def __sub__(self, other):\n",
        "        return self + (-other)\n",
        "\n",
        "    def __rsub__(self, other):\n",
        "        return other + (-self)\n",
        "\n",
        "    def tanh(self):\n",
        "        x = self.data\n",
        "        t = (math.exp(2*x) - 1) / (math.exp(2*x) + 1)\n",
        "        out = Value(t, (self, ), 'tanh')\n",
        "\n",
        "        def _backward():\n",
        "            self.grad += (1 - t**2) * out.grad\n",
        "\n",
        "        out._backward = _backward\n",
        "        return out\n",
        "\n",
        "    def exp(self):\n",
        "        x = self.data\n",
        "        out = Value(math.exp(x), (self, ), 'exp')\n",
        "\n",
        "        def _backward():\n",
        "            self.grad += out.data * out.grad\n",
        "\n",
        "        out._backward = _backward\n",
        "        return out\n",
        "\n",
        "    def __pow__(self, other):\n",
        "        assert isinstance(other, (int, float)), \"only supporting int/float powers for now\"\n",
        "        out = Value(self.data**other, (self, ), f'**{other}')\n",
        "\n",
        "        def _backward():\n",
        "            self.grad += other * (self.data ** (other - 1)) * out.grad\n",
        "\n",
        "        out._backward = _backward\n",
        "        return out\n",
        "\n",
        "    def __truediv__(self, other):\n",
        "        return self * other ** -1\n",
        "\n",
        "    def __rtruediv__(self, other):\n",
        "        return other * self ** -1\n",
        "\n",
        "\n",
        "    def backward(self):\n",
        "        # O(n) time and space complexity for figuring out topo\n",
        "        # + O(n) for backward propagation, total is still linear time\n",
        "        visited = set()\n",
        "        topo = []\n",
        "        def build_topo(node):\n",
        "            if node not in visited:\n",
        "                visited.add(node)\n",
        "                for child in node._prev:\n",
        "                    build_topo(child)\n",
        "                topo.append(node)\n",
        "        build_topo(self)\n",
        "\n",
        "        self.grad = 1.0\n",
        "        for node in reversed(topo):\n",
        "            node._backward()"
      ],
      "metadata": {
        "id": "24ny73RxGkrN"
      },
      "execution_count": null,
      "outputs": []
    },
    {
      "cell_type": "code",
      "source": [
        "a  = Value(2.0)\n",
        "b = Value(4.0)\n",
        "2 / a"
      ],
      "metadata": {
        "colab": {
          "base_uri": "https://localhost:8080/"
        },
        "id": "yGQQ_qoyjS4F",
        "outputId": "b7728177-8c53-4866-94d7-2bfe7357cbc2"
      },
      "execution_count": null,
      "outputs": [
        {
          "output_type": "execute_result",
          "data": {
            "text/plain": [
              "Value(data=1.0, label=)"
            ]
          },
          "metadata": {},
          "execution_count": 192
        }
      ]
    },
    {
      "cell_type": "code",
      "source": [
        "from graphviz import Digraph\n",
        "\n",
        "def trace(root):\n",
        "    nodes, edges = set(), set()\n",
        "    def build(v):\n",
        "        if v not in nodes:\n",
        "            nodes.add(v)\n",
        "            for child in v._prev:\n",
        "                edges.add((child, v))\n",
        "                build(child)\n",
        "    build(root)\n",
        "    return nodes, edges\n",
        "\n",
        "def draw_dot(root):\n",
        "    dot = Digraph(format='svg', graph_attr={'rankdir': 'LR'}) # LR = left to right\n",
        "\n",
        "    nodes, edges = trace(root)\n",
        "    # print(f\"nodes: {nodes}, edges: {edges}\")\n",
        "    for n in nodes:\n",
        "        uid = str(id(n))\n",
        "        dot.node(name = uid,  label = \"{ %s | data %.4f | grad %.4f  }\" % (n.label, n.data, n.grad), shape='record')\n",
        "        if n._op:\n",
        "            dot.node(name = uid + n._op, label = n._op)\n",
        "            dot.edge(uid + n._op, uid)\n",
        "\n",
        "    for n1, n2 in edges:\n",
        "        dot.edge(str(id(n1)), str(id(n2)) + n2._op)\n",
        "\n",
        "    return dot"
      ],
      "metadata": {
        "id": "5E2W1-r0JI6j"
      },
      "execution_count": null,
      "outputs": []
    },
    {
      "cell_type": "code",
      "source": [
        "# inputs\n",
        "x1 = Value(2.0, label='x1')\n",
        "x2 = Value(0.0, label='x2')\n",
        "\n",
        "# weights\n",
        "w1 = Value(-3.0, label='w1')\n",
        "w2 = Value(1.0, label='w2')\n",
        "# bias\n",
        "b = Value(6.8813735870195423, label='b')\n",
        "\n",
        "x1w1 = x1 * w1; x1w1.label = 'x1w1'\n",
        "x2w2 = x2 * w2; x2w2.label = 'x2w2'\n",
        "x1w1x2w2 = x1w1 + x2w2; x1w1x2w2.label = 'x1w1 + x2w2'\n",
        "n = x1w1x2w2 + b; n.label = 'n'\n",
        "\n",
        "o = n.tanh(); o.label = 'o'\n",
        "o.backward()"
      ],
      "metadata": {
        "id": "_lPEdEToh2mM"
      },
      "execution_count": null,
      "outputs": []
    },
    {
      "cell_type": "code",
      "source": [
        "draw_dot(o)"
      ],
      "metadata": {
        "colab": {
          "base_uri": "https://localhost:8080/",
          "height": 321
        },
        "id": "vpalInyrmfWW",
        "outputId": "0d167ed8-d95f-4762-a56b-f4733aa84871"
      },
      "execution_count": null,
      "outputs": [
        {
          "output_type": "execute_result",
          "data": {
            "image/svg+xml": "<?xml version=\"1.0\" encoding=\"UTF-8\" standalone=\"no\"?>\n<!DOCTYPE svg PUBLIC \"-//W3C//DTD SVG 1.1//EN\"\n \"http://www.w3.org/Graphics/SVG/1.1/DTD/svg11.dtd\">\n<!-- Generated by graphviz version 2.43.0 (0)\n -->\n<!-- Title: %3 Pages: 1 -->\n<svg width=\"1555pt\" height=\"210pt\"\n viewBox=\"0.00 0.00 1555.00 210.00\" xmlns=\"http://www.w3.org/2000/svg\" xmlns:xlink=\"http://www.w3.org/1999/xlink\">\n<g id=\"graph0\" class=\"graph\" transform=\"scale(1 1) rotate(0) translate(4 206)\">\n<title>%3</title>\n<polygon fill=\"white\" stroke=\"transparent\" points=\"-4,4 -4,-206 1551,-206 1551,4 -4,4\"/>\n<!-- 137422425375808 -->\n<g id=\"node1\" class=\"node\">\n<title>137422425375808</title>\n<polygon fill=\"none\" stroke=\"black\" points=\"0,-165.5 0,-201.5 200,-201.5 200,-165.5 0,-165.5\"/>\n<text text-anchor=\"middle\" x=\"16.5\" y=\"-179.8\" font-family=\"Times,serif\" font-size=\"14.00\">w1</text>\n<polyline fill=\"none\" stroke=\"black\" points=\"33,-165.5 33,-201.5 \"/>\n<text text-anchor=\"middle\" x=\"75.5\" y=\"-179.8\" font-family=\"Times,serif\" font-size=\"14.00\">data &#45;3.0000</text>\n<polyline fill=\"none\" stroke=\"black\" points=\"118,-165.5 118,-201.5 \"/>\n<text text-anchor=\"middle\" x=\"159\" y=\"-179.8\" font-family=\"Times,serif\" font-size=\"14.00\">grad 1.0000</text>\n</g>\n<!-- 137422422734320* -->\n<g id=\"node15\" class=\"node\">\n<title>137422422734320*</title>\n<ellipse fill=\"none\" stroke=\"black\" cx=\"263\" cy=\"-128.5\" rx=\"27\" ry=\"18\"/>\n<text text-anchor=\"middle\" x=\"263\" y=\"-124.8\" font-family=\"Times,serif\" font-size=\"14.00\">*</text>\n</g>\n<!-- 137422425375808&#45;&gt;137422422734320* -->\n<g id=\"edge12\" class=\"edge\">\n<title>137422425375808&#45;&gt;137422422734320*</title>\n<path fill=\"none\" stroke=\"black\" d=\"M172.53,-165.44C181.84,-162.67 191.2,-159.67 200,-156.5 210.53,-152.71 221.75,-147.9 231.72,-143.33\"/>\n<polygon fill=\"black\" stroke=\"black\" points=\"233.25,-146.48 240.82,-139.07 230.28,-140.14 233.25,-146.48\"/>\n</g>\n<!-- 137422422736000 -->\n<g id=\"node2\" class=\"node\">\n<title>137422422736000</title>\n<polygon fill=\"none\" stroke=\"black\" points=\"328.5,-55.5 328.5,-91.5 537.5,-91.5 537.5,-55.5 328.5,-55.5\"/>\n<text text-anchor=\"middle\" x=\"352\" y=\"-69.8\" font-family=\"Times,serif\" font-size=\"14.00\">x2w2</text>\n<polyline fill=\"none\" stroke=\"black\" points=\"375.5,-55.5 375.5,-91.5 \"/>\n<text text-anchor=\"middle\" x=\"415.5\" y=\"-69.8\" font-family=\"Times,serif\" font-size=\"14.00\">data 0.0000</text>\n<polyline fill=\"none\" stroke=\"black\" points=\"455.5,-55.5 455.5,-91.5 \"/>\n<text text-anchor=\"middle\" x=\"496.5\" y=\"-69.8\" font-family=\"Times,serif\" font-size=\"14.00\">grad 0.5000</text>\n</g>\n<!-- 137422422734992+ -->\n<g id=\"node7\" class=\"node\">\n<title>137422422734992+</title>\n<ellipse fill=\"none\" stroke=\"black\" cx=\"603\" cy=\"-100.5\" rx=\"27\" ry=\"18\"/>\n<text text-anchor=\"middle\" x=\"603\" y=\"-96.8\" font-family=\"Times,serif\" font-size=\"14.00\">+</text>\n</g>\n<!-- 137422422736000&#45;&gt;137422422734992+ -->\n<g id=\"edge8\" class=\"edge\">\n<title>137422422736000&#45;&gt;137422422734992+</title>\n<path fill=\"none\" stroke=\"black\" d=\"M537.53,-90.14C547.8,-91.79 557.66,-93.37 566.45,-94.79\"/>\n<polygon fill=\"black\" stroke=\"black\" points=\"566.16,-98.28 576.59,-96.42 567.27,-91.37 566.16,-98.28\"/>\n</g>\n<!-- 137422422736000* -->\n<g id=\"node3\" class=\"node\">\n<title>137422422736000*</title>\n<ellipse fill=\"none\" stroke=\"black\" cx=\"263\" cy=\"-73.5\" rx=\"27\" ry=\"18\"/>\n<text text-anchor=\"middle\" x=\"263\" y=\"-69.8\" font-family=\"Times,serif\" font-size=\"14.00\">*</text>\n</g>\n<!-- 137422422736000*&#45;&gt;137422422736000 -->\n<g id=\"edge1\" class=\"edge\">\n<title>137422422736000*&#45;&gt;137422422736000</title>\n<path fill=\"none\" stroke=\"black\" d=\"M290.25,-73.5C298.43,-73.5 308.03,-73.5 318.31,-73.5\"/>\n<polygon fill=\"black\" stroke=\"black\" points=\"318.35,-77 328.35,-73.5 318.35,-70 318.35,-77\"/>\n</g>\n<!-- 137422528514192 -->\n<g id=\"node4\" class=\"node\">\n<title>137422528514192</title>\n<polygon fill=\"none\" stroke=\"black\" points=\"1362,-54.5 1362,-90.5 1547,-90.5 1547,-54.5 1362,-54.5\"/>\n<text text-anchor=\"middle\" x=\"1373.5\" y=\"-68.8\" font-family=\"Times,serif\" font-size=\"14.00\">o</text>\n<polyline fill=\"none\" stroke=\"black\" points=\"1385,-54.5 1385,-90.5 \"/>\n<text text-anchor=\"middle\" x=\"1425\" y=\"-68.8\" font-family=\"Times,serif\" font-size=\"14.00\">data 0.7071</text>\n<polyline fill=\"none\" stroke=\"black\" points=\"1465,-54.5 1465,-90.5 \"/>\n<text text-anchor=\"middle\" x=\"1506\" y=\"-68.8\" font-family=\"Times,serif\" font-size=\"14.00\">grad 1.0000</text>\n</g>\n<!-- 137422528514192tanh -->\n<g id=\"node5\" class=\"node\">\n<title>137422528514192tanh</title>\n<ellipse fill=\"none\" stroke=\"black\" cx=\"1299\" cy=\"-72.5\" rx=\"27\" ry=\"18\"/>\n<text text-anchor=\"middle\" x=\"1299\" y=\"-68.8\" font-family=\"Times,serif\" font-size=\"14.00\">tanh</text>\n</g>\n<!-- 137422528514192tanh&#45;&gt;137422528514192 -->\n<g id=\"edge2\" class=\"edge\">\n<title>137422528514192tanh&#45;&gt;137422528514192</title>\n<path fill=\"none\" stroke=\"black\" d=\"M1326.04,-72.5C1333.58,-72.5 1342.3,-72.5 1351.57,-72.5\"/>\n<polygon fill=\"black\" stroke=\"black\" points=\"1351.81,-76 1361.81,-72.5 1351.81,-69 1351.81,-76\"/>\n</g>\n<!-- 137422422734992 -->\n<g id=\"node6\" class=\"node\">\n<title>137422422734992</title>\n<polygon fill=\"none\" stroke=\"black\" points=\"666,-82.5 666,-118.5 925,-118.5 925,-82.5 666,-82.5\"/>\n<text text-anchor=\"middle\" x=\"712\" y=\"-96.8\" font-family=\"Times,serif\" font-size=\"14.00\">x1w1 + x2w2</text>\n<polyline fill=\"none\" stroke=\"black\" points=\"758,-82.5 758,-118.5 \"/>\n<text text-anchor=\"middle\" x=\"800.5\" y=\"-96.8\" font-family=\"Times,serif\" font-size=\"14.00\">data &#45;6.0000</text>\n<polyline fill=\"none\" stroke=\"black\" points=\"843,-82.5 843,-118.5 \"/>\n<text text-anchor=\"middle\" x=\"884\" y=\"-96.8\" font-family=\"Times,serif\" font-size=\"14.00\">grad 0.5000</text>\n</g>\n<!-- 137422422734800+ -->\n<g id=\"node13\" class=\"node\">\n<title>137422422734800+</title>\n<ellipse fill=\"none\" stroke=\"black\" cx=\"988\" cy=\"-72.5\" rx=\"27\" ry=\"18\"/>\n<text text-anchor=\"middle\" x=\"988\" y=\"-68.8\" font-family=\"Times,serif\" font-size=\"14.00\">+</text>\n</g>\n<!-- 137422422734992&#45;&gt;137422422734800+ -->\n<g id=\"edge11\" class=\"edge\">\n<title>137422422734992&#45;&gt;137422422734800+</title>\n<path fill=\"none\" stroke=\"black\" d=\"M919.03,-82.49C930.7,-80.77 941.77,-79.15 951.46,-77.72\"/>\n<polygon fill=\"black\" stroke=\"black\" points=\"952.01,-81.18 961.4,-76.26 951,-74.25 952.01,-81.18\"/>\n</g>\n<!-- 137422422734992+&#45;&gt;137422422734992 -->\n<g id=\"edge3\" class=\"edge\">\n<title>137422422734992+&#45;&gt;137422422734992</title>\n<path fill=\"none\" stroke=\"black\" d=\"M630.09,-100.5C637.58,-100.5 646.3,-100.5 655.75,-100.5\"/>\n<polygon fill=\"black\" stroke=\"black\" points=\"655.84,-104 665.84,-100.5 655.84,-97 655.84,-104\"/>\n</g>\n<!-- 137422425375520 -->\n<g id=\"node8\" class=\"node\">\n<title>137422425375520</title>\n<polygon fill=\"none\" stroke=\"black\" points=\"2.5,-55.5 2.5,-91.5 197.5,-91.5 197.5,-55.5 2.5,-55.5\"/>\n<text text-anchor=\"middle\" x=\"19\" y=\"-69.8\" font-family=\"Times,serif\" font-size=\"14.00\">w2</text>\n<polyline fill=\"none\" stroke=\"black\" points=\"35.5,-55.5 35.5,-91.5 \"/>\n<text text-anchor=\"middle\" x=\"75.5\" y=\"-69.8\" font-family=\"Times,serif\" font-size=\"14.00\">data 1.0000</text>\n<polyline fill=\"none\" stroke=\"black\" points=\"115.5,-55.5 115.5,-91.5 \"/>\n<text text-anchor=\"middle\" x=\"156.5\" y=\"-69.8\" font-family=\"Times,serif\" font-size=\"14.00\">grad 0.0000</text>\n</g>\n<!-- 137422425375520&#45;&gt;137422422736000* -->\n<g id=\"edge13\" class=\"edge\">\n<title>137422425375520&#45;&gt;137422422736000*</title>\n<path fill=\"none\" stroke=\"black\" d=\"M197.91,-73.5C207.65,-73.5 217.05,-73.5 225.52,-73.5\"/>\n<polygon fill=\"black\" stroke=\"black\" points=\"225.7,-77 235.7,-73.5 225.7,-70 225.7,-77\"/>\n</g>\n<!-- 137422425375040 -->\n<g id=\"node9\" class=\"node\">\n<title>137422425375040</title>\n<polygon fill=\"none\" stroke=\"black\" points=\"2,-110.5 2,-146.5 198,-146.5 198,-110.5 2,-110.5\"/>\n<text text-anchor=\"middle\" x=\"17\" y=\"-124.8\" font-family=\"Times,serif\" font-size=\"14.00\">x1</text>\n<polyline fill=\"none\" stroke=\"black\" points=\"32,-110.5 32,-146.5 \"/>\n<text text-anchor=\"middle\" x=\"72\" y=\"-124.8\" font-family=\"Times,serif\" font-size=\"14.00\">data 2.0000</text>\n<polyline fill=\"none\" stroke=\"black\" points=\"112,-110.5 112,-146.5 \"/>\n<text text-anchor=\"middle\" x=\"155\" y=\"-124.8\" font-family=\"Times,serif\" font-size=\"14.00\">grad &#45;1.5000</text>\n</g>\n<!-- 137422425375040&#45;&gt;137422422734320* -->\n<g id=\"edge14\" class=\"edge\">\n<title>137422425375040&#45;&gt;137422422734320*</title>\n<path fill=\"none\" stroke=\"black\" d=\"M198.37,-128.5C208.05,-128.5 217.4,-128.5 225.8,-128.5\"/>\n<polygon fill=\"black\" stroke=\"black\" points=\"225.91,-132 235.91,-128.5 225.91,-125 225.91,-132\"/>\n</g>\n<!-- 137422425375568 -->\n<g id=\"node10\" class=\"node\">\n<title>137422425375568</title>\n<polygon fill=\"none\" stroke=\"black\" points=\"703,-27.5 703,-63.5 888,-63.5 888,-27.5 703,-27.5\"/>\n<text text-anchor=\"middle\" x=\"714.5\" y=\"-41.8\" font-family=\"Times,serif\" font-size=\"14.00\">b</text>\n<polyline fill=\"none\" stroke=\"black\" points=\"726,-27.5 726,-63.5 \"/>\n<text text-anchor=\"middle\" x=\"766\" y=\"-41.8\" font-family=\"Times,serif\" font-size=\"14.00\">data 6.8814</text>\n<polyline fill=\"none\" stroke=\"black\" points=\"806,-27.5 806,-63.5 \"/>\n<text text-anchor=\"middle\" x=\"847\" y=\"-41.8\" font-family=\"Times,serif\" font-size=\"14.00\">grad 0.5000</text>\n</g>\n<!-- 137422425375568&#45;&gt;137422422734800+ -->\n<g id=\"edge10\" class=\"edge\">\n<title>137422425375568&#45;&gt;137422422734800+</title>\n<path fill=\"none\" stroke=\"black\" d=\"M888.12,-58.49C910.59,-61.67 933.33,-64.89 951.33,-67.44\"/>\n<polygon fill=\"black\" stroke=\"black\" points=\"950.95,-70.93 961.34,-68.86 951.93,-63.99 950.95,-70.93\"/>\n</g>\n<!-- 137422425376144 -->\n<g id=\"node11\" class=\"node\">\n<title>137422425376144</title>\n<polygon fill=\"none\" stroke=\"black\" points=\"4,-0.5 4,-36.5 196,-36.5 196,-0.5 4,-0.5\"/>\n<text text-anchor=\"middle\" x=\"19\" y=\"-14.8\" font-family=\"Times,serif\" font-size=\"14.00\">x2</text>\n<polyline fill=\"none\" stroke=\"black\" points=\"34,-0.5 34,-36.5 \"/>\n<text text-anchor=\"middle\" x=\"74\" y=\"-14.8\" font-family=\"Times,serif\" font-size=\"14.00\">data 0.0000</text>\n<polyline fill=\"none\" stroke=\"black\" points=\"114,-0.5 114,-36.5 \"/>\n<text text-anchor=\"middle\" x=\"155\" y=\"-14.8\" font-family=\"Times,serif\" font-size=\"14.00\">grad 0.5000</text>\n</g>\n<!-- 137422425376144&#45;&gt;137422422736000* -->\n<g id=\"edge7\" class=\"edge\">\n<title>137422425376144&#45;&gt;137422422736000*</title>\n<path fill=\"none\" stroke=\"black\" d=\"M169.28,-36.5C179.65,-39.61 190.16,-42.98 200,-46.5 210.28,-50.17 221.28,-54.74 231.11,-59.07\"/>\n<polygon fill=\"black\" stroke=\"black\" points=\"229.93,-62.37 240.48,-63.27 232.79,-55.99 229.93,-62.37\"/>\n</g>\n<!-- 137422422734800 -->\n<g id=\"node12\" class=\"node\">\n<title>137422422734800</title>\n<polygon fill=\"none\" stroke=\"black\" points=\"1051,-54.5 1051,-90.5 1236,-90.5 1236,-54.5 1051,-54.5\"/>\n<text text-anchor=\"middle\" x=\"1062.5\" y=\"-68.8\" font-family=\"Times,serif\" font-size=\"14.00\">n</text>\n<polyline fill=\"none\" stroke=\"black\" points=\"1074,-54.5 1074,-90.5 \"/>\n<text text-anchor=\"middle\" x=\"1114\" y=\"-68.8\" font-family=\"Times,serif\" font-size=\"14.00\">data 0.8814</text>\n<polyline fill=\"none\" stroke=\"black\" points=\"1154,-54.5 1154,-90.5 \"/>\n<text text-anchor=\"middle\" x=\"1195\" y=\"-68.8\" font-family=\"Times,serif\" font-size=\"14.00\">grad 0.5000</text>\n</g>\n<!-- 137422422734800&#45;&gt;137422528514192tanh -->\n<g id=\"edge9\" class=\"edge\">\n<title>137422422734800&#45;&gt;137422528514192tanh</title>\n<path fill=\"none\" stroke=\"black\" d=\"M1236.01,-72.5C1245.01,-72.5 1253.74,-72.5 1261.66,-72.5\"/>\n<polygon fill=\"black\" stroke=\"black\" points=\"1261.91,-76 1271.91,-72.5 1261.91,-69 1261.91,-76\"/>\n</g>\n<!-- 137422422734800+&#45;&gt;137422422734800 -->\n<g id=\"edge4\" class=\"edge\">\n<title>137422422734800+&#45;&gt;137422422734800</title>\n<path fill=\"none\" stroke=\"black\" d=\"M1015.04,-72.5C1022.58,-72.5 1031.3,-72.5 1040.57,-72.5\"/>\n<polygon fill=\"black\" stroke=\"black\" points=\"1040.81,-76 1050.81,-72.5 1040.81,-69 1040.81,-76\"/>\n</g>\n<!-- 137422422734320 -->\n<g id=\"node14\" class=\"node\">\n<title>137422422734320</title>\n<polygon fill=\"none\" stroke=\"black\" points=\"326,-110.5 326,-146.5 540,-146.5 540,-110.5 326,-110.5\"/>\n<text text-anchor=\"middle\" x=\"349.5\" y=\"-124.8\" font-family=\"Times,serif\" font-size=\"14.00\">x1w1</text>\n<polyline fill=\"none\" stroke=\"black\" points=\"373,-110.5 373,-146.5 \"/>\n<text text-anchor=\"middle\" x=\"415.5\" y=\"-124.8\" font-family=\"Times,serif\" font-size=\"14.00\">data &#45;6.0000</text>\n<polyline fill=\"none\" stroke=\"black\" points=\"458,-110.5 458,-146.5 \"/>\n<text text-anchor=\"middle\" x=\"499\" y=\"-124.8\" font-family=\"Times,serif\" font-size=\"14.00\">grad 0.5000</text>\n</g>\n<!-- 137422422734320&#45;&gt;137422422734992+ -->\n<g id=\"edge6\" class=\"edge\">\n<title>137422422734320&#45;&gt;137422422734992+</title>\n<path fill=\"none\" stroke=\"black\" d=\"M540.4,-110.77C549.72,-109.21 558.65,-107.72 566.68,-106.39\"/>\n<polygon fill=\"black\" stroke=\"black\" points=\"567.38,-109.82 576.66,-104.72 566.22,-102.91 567.38,-109.82\"/>\n</g>\n<!-- 137422422734320*&#45;&gt;137422422734320 -->\n<g id=\"edge5\" class=\"edge\">\n<title>137422422734320*&#45;&gt;137422422734320</title>\n<path fill=\"none\" stroke=\"black\" d=\"M290.25,-128.5C297.7,-128.5 306.34,-128.5 315.59,-128.5\"/>\n<polygon fill=\"black\" stroke=\"black\" points=\"315.84,-132 325.84,-128.5 315.84,-125 315.84,-132\"/>\n</g>\n</g>\n</svg>\n",
            "text/plain": [
              "<graphviz.graphs.Digraph at 0x7cfc26d943b0>"
            ]
          },
          "metadata": {},
          "execution_count": 195
        }
      ]
    },
    {
      "cell_type": "code",
      "source": [
        "# inputs\n",
        "x1 = Value(2.0, label='x1')\n",
        "x2 = Value(0.0, label='x2')\n",
        "\n",
        "# weights\n",
        "w1 = Value(-3.0, label='w1')\n",
        "w2 = Value(1.0, label='w2')\n",
        "# bias\n",
        "b = Value(6.8813735870195423, label='b')\n",
        "\n",
        "x1w1 = x1 * w1; x1w1.label = 'x1w1'\n",
        "x2w2 = x2 * w2; x2w2.label = 'x2w2'\n",
        "x1w1x2w2 = x1w1 + x2w2; x1w1x2w2.label = 'x1w1 + x2w2'\n",
        "n = x1w1x2w2 + b; n.label = 'n'\n",
        "\n",
        "e = (2 * n).exp()\n",
        "o = (e - 1) / (e + 1)\n",
        "o.label = 'o'\n",
        "o.backward()"
      ],
      "metadata": {
        "id": "XgjcDKYZsbek"
      },
      "execution_count": null,
      "outputs": []
    },
    {
      "cell_type": "code",
      "source": [
        "draw_dot(o)"
      ],
      "metadata": {
        "colab": {
          "base_uri": "https://localhost:8080/",
          "height": 321
        },
        "id": "dFDzqkHemj6M",
        "outputId": "b0b5528e-474a-408e-fc56-3b57ab0e4f4c"
      },
      "execution_count": null,
      "outputs": [
        {
          "output_type": "execute_result",
          "data": {
            "image/svg+xml": "<?xml version=\"1.0\" encoding=\"UTF-8\" standalone=\"no\"?>\n<!DOCTYPE svg PUBLIC \"-//W3C//DTD SVG 1.1//EN\"\n \"http://www.w3.org/Graphics/SVG/1.1/DTD/svg11.dtd\">\n<!-- Generated by graphviz version 2.43.0 (0)\n -->\n<!-- Title: %3 Pages: 1 -->\n<svg width=\"2924pt\" height=\"210pt\"\n viewBox=\"0.00 0.00 2924.00 210.00\" xmlns=\"http://www.w3.org/2000/svg\" xmlns:xlink=\"http://www.w3.org/1999/xlink\">\n<g id=\"graph0\" class=\"graph\" transform=\"scale(1 1) rotate(0) translate(4 206)\">\n<title>%3</title>\n<polygon fill=\"white\" stroke=\"transparent\" points=\"-4,4 -4,-206 2920,-206 2920,4 -4,4\"/>\n<!-- 137422512940544 -->\n<g id=\"node1\" class=\"node\">\n<title>137422512940544</title>\n<polygon fill=\"none\" stroke=\"black\" points=\"2731,-80.5 2731,-116.5 2916,-116.5 2916,-80.5 2731,-80.5\"/>\n<text text-anchor=\"middle\" x=\"2742.5\" y=\"-94.8\" font-family=\"Times,serif\" font-size=\"14.00\">o</text>\n<polyline fill=\"none\" stroke=\"black\" points=\"2754,-80.5 2754,-116.5 \"/>\n<text text-anchor=\"middle\" x=\"2794\" y=\"-94.8\" font-family=\"Times,serif\" font-size=\"14.00\">data 0.7071</text>\n<polyline fill=\"none\" stroke=\"black\" points=\"2834,-80.5 2834,-116.5 \"/>\n<text text-anchor=\"middle\" x=\"2875\" y=\"-94.8\" font-family=\"Times,serif\" font-size=\"14.00\">grad 1.0000</text>\n</g>\n<!-- 137422512940544* -->\n<g id=\"node2\" class=\"node\">\n<title>137422512940544*</title>\n<ellipse fill=\"none\" stroke=\"black\" cx=\"2668\" cy=\"-98.5\" rx=\"27\" ry=\"18\"/>\n<text text-anchor=\"middle\" x=\"2668\" y=\"-94.8\" font-family=\"Times,serif\" font-size=\"14.00\">*</text>\n</g>\n<!-- 137422512940544*&#45;&gt;137422512940544 -->\n<g id=\"edge1\" class=\"edge\">\n<title>137422512940544*&#45;&gt;137422512940544</title>\n<path fill=\"none\" stroke=\"black\" d=\"M2695.04,-98.5C2702.58,-98.5 2711.3,-98.5 2720.57,-98.5\"/>\n<polygon fill=\"black\" stroke=\"black\" points=\"2720.81,-102 2730.81,-98.5 2720.81,-95 2720.81,-102\"/>\n</g>\n<!-- 137422422735376 -->\n<g id=\"node3\" class=\"node\">\n<title>137422422735376</title>\n<polygon fill=\"none\" stroke=\"black\" points=\"328.5,-110.5 328.5,-146.5 537.5,-146.5 537.5,-110.5 328.5,-110.5\"/>\n<text text-anchor=\"middle\" x=\"352\" y=\"-124.8\" font-family=\"Times,serif\" font-size=\"14.00\">x2w2</text>\n<polyline fill=\"none\" stroke=\"black\" points=\"375.5,-110.5 375.5,-146.5 \"/>\n<text text-anchor=\"middle\" x=\"415.5\" y=\"-124.8\" font-family=\"Times,serif\" font-size=\"14.00\">data 0.0000</text>\n<polyline fill=\"none\" stroke=\"black\" points=\"455.5,-110.5 455.5,-146.5 \"/>\n<text text-anchor=\"middle\" x=\"496.5\" y=\"-124.8\" font-family=\"Times,serif\" font-size=\"14.00\">grad 0.5000</text>\n</g>\n<!-- 137422422735520+ -->\n<g id=\"node12\" class=\"node\">\n<title>137422422735520+</title>\n<ellipse fill=\"none\" stroke=\"black\" cx=\"603\" cy=\"-100.5\" rx=\"27\" ry=\"18\"/>\n<text text-anchor=\"middle\" x=\"603\" y=\"-96.8\" font-family=\"Times,serif\" font-size=\"14.00\">+</text>\n</g>\n<!-- 137422422735376&#45;&gt;137422422735520+ -->\n<g id=\"edge25\" class=\"edge\">\n<title>137422422735376&#45;&gt;137422422735520+</title>\n<path fill=\"none\" stroke=\"black\" d=\"M537.53,-111.25C547.8,-109.53 557.66,-107.89 566.45,-106.43\"/>\n<polygon fill=\"black\" stroke=\"black\" points=\"567.3,-109.83 576.59,-104.74 566.15,-102.93 567.3,-109.83\"/>\n</g>\n<!-- 137422422735376* -->\n<g id=\"node4\" class=\"node\">\n<title>137422422735376*</title>\n<ellipse fill=\"none\" stroke=\"black\" cx=\"263\" cy=\"-128.5\" rx=\"27\" ry=\"18\"/>\n<text text-anchor=\"middle\" x=\"263\" y=\"-124.8\" font-family=\"Times,serif\" font-size=\"14.00\">*</text>\n</g>\n<!-- 137422422735376*&#45;&gt;137422422735376 -->\n<g id=\"edge2\" class=\"edge\">\n<title>137422422735376*&#45;&gt;137422422735376</title>\n<path fill=\"none\" stroke=\"black\" d=\"M290.25,-128.5C298.43,-128.5 308.03,-128.5 318.31,-128.5\"/>\n<polygon fill=\"black\" stroke=\"black\" points=\"318.35,-132 328.35,-128.5 318.35,-125 318.35,-132\"/>\n</g>\n<!-- 137422422734896 -->\n<g id=\"node5\" class=\"node\">\n<title>137422422734896</title>\n<polygon fill=\"none\" stroke=\"black\" points=\"703,-137.5 703,-173.5 888,-173.5 888,-137.5 703,-137.5\"/>\n<text text-anchor=\"middle\" x=\"714.5\" y=\"-151.8\" font-family=\"Times,serif\" font-size=\"14.00\">b</text>\n<polyline fill=\"none\" stroke=\"black\" points=\"726,-137.5 726,-173.5 \"/>\n<text text-anchor=\"middle\" x=\"766\" y=\"-151.8\" font-family=\"Times,serif\" font-size=\"14.00\">data 6.8814</text>\n<polyline fill=\"none\" stroke=\"black\" points=\"806,-137.5 806,-173.5 \"/>\n<text text-anchor=\"middle\" x=\"847\" y=\"-151.8\" font-family=\"Times,serif\" font-size=\"14.00\">grad 0.5000</text>\n</g>\n<!-- 137422422735616+ -->\n<g id=\"node21\" class=\"node\">\n<title>137422422735616+</title>\n<ellipse fill=\"none\" stroke=\"black\" cx=\"988\" cy=\"-127.5\" rx=\"27\" ry=\"18\"/>\n<text text-anchor=\"middle\" x=\"988\" y=\"-123.8\" font-family=\"Times,serif\" font-size=\"14.00\">+</text>\n</g>\n<!-- 137422422734896&#45;&gt;137422422735616+ -->\n<g id=\"edge15\" class=\"edge\">\n<title>137422422734896&#45;&gt;137422422735616+</title>\n<path fill=\"none\" stroke=\"black\" d=\"M888.12,-142.03C910.59,-138.73 933.33,-135.39 951.33,-132.74\"/>\n<polygon fill=\"black\" stroke=\"black\" points=\"951.96,-136.19 961.34,-131.27 950.94,-129.26 951.96,-136.19\"/>\n</g>\n<!-- 137422422736480 -->\n<g id=\"node6\" class=\"node\">\n<title>137422422736480</title>\n<polygon fill=\"none\" stroke=\"black\" points=\"1672.5,-81.5 1672.5,-117.5 1854.5,-117.5 1854.5,-81.5 1672.5,-81.5\"/>\n<text text-anchor=\"middle\" x=\"1682.5\" y=\"-95.8\" font-family=\"Times,serif\" font-size=\"14.00\"> </text>\n<polyline fill=\"none\" stroke=\"black\" points=\"1692.5,-81.5 1692.5,-117.5 \"/>\n<text text-anchor=\"middle\" x=\"1732.5\" y=\"-95.8\" font-family=\"Times,serif\" font-size=\"14.00\">data 5.8284</text>\n<polyline fill=\"none\" stroke=\"black\" points=\"1772.5,-81.5 1772.5,-117.5 \"/>\n<text text-anchor=\"middle\" x=\"1813.5\" y=\"-95.8\" font-family=\"Times,serif\" font-size=\"14.00\">grad 0.0429</text>\n</g>\n<!-- 137422422735040+ -->\n<g id=\"node15\" class=\"node\">\n<title>137422422735040+</title>\n<ellipse fill=\"none\" stroke=\"black\" cx=\"1920\" cy=\"-71.5\" rx=\"27\" ry=\"18\"/>\n<text text-anchor=\"middle\" x=\"1920\" y=\"-67.8\" font-family=\"Times,serif\" font-size=\"14.00\">+</text>\n</g>\n<!-- 137422422736480&#45;&gt;137422422735040+ -->\n<g id=\"edge20\" class=\"edge\">\n<title>137422422736480&#45;&gt;137422422735040+</title>\n<path fill=\"none\" stroke=\"black\" d=\"M1854.82,-83.13C1865.07,-81.27 1875.01,-79.47 1883.88,-77.87\"/>\n<polygon fill=\"black\" stroke=\"black\" points=\"1884.54,-81.3 1893.75,-76.08 1883.29,-74.42 1884.54,-81.3\"/>\n</g>\n<!-- 137422422736720+ -->\n<g id=\"node25\" class=\"node\">\n<title>137422422736720+</title>\n<ellipse fill=\"none\" stroke=\"black\" cx=\"1920\" cy=\"-126.5\" rx=\"27\" ry=\"18\"/>\n<text text-anchor=\"middle\" x=\"1920\" y=\"-122.8\" font-family=\"Times,serif\" font-size=\"14.00\">+</text>\n</g>\n<!-- 137422422736480&#45;&gt;137422422736720+ -->\n<g id=\"edge23\" class=\"edge\">\n<title>137422422736480&#45;&gt;137422422736720+</title>\n<path fill=\"none\" stroke=\"black\" d=\"M1854.82,-115.28C1865.07,-117.08 1875.01,-118.81 1883.88,-120.36\"/>\n<polygon fill=\"black\" stroke=\"black\" points=\"1883.3,-123.81 1893.75,-122.09 1884.5,-116.92 1883.3,-123.81\"/>\n</g>\n<!-- 137422422736480exp -->\n<g id=\"node7\" class=\"node\">\n<title>137422422736480exp</title>\n<ellipse fill=\"none\" stroke=\"black\" cx=\"1607\" cy=\"-99.5\" rx=\"27\" ry=\"18\"/>\n<text text-anchor=\"middle\" x=\"1607\" y=\"-95.8\" font-family=\"Times,serif\" font-size=\"14.00\">exp</text>\n</g>\n<!-- 137422422736480exp&#45;&gt;137422422736480 -->\n<g id=\"edge3\" class=\"edge\">\n<title>137422422736480exp&#45;&gt;137422422736480</title>\n<path fill=\"none\" stroke=\"black\" d=\"M1634.21,-99.5C1642.34,-99.5 1651.85,-99.5 1661.94,-99.5\"/>\n<polygon fill=\"black\" stroke=\"black\" points=\"1662.19,-103 1672.19,-99.5 1662.19,-96 1662.19,-103\"/>\n</g>\n<!-- 137422531486848 -->\n<g id=\"node8\" class=\"node\">\n<title>137422531486848</title>\n<polygon fill=\"none\" stroke=\"black\" points=\"2.5,-165.5 2.5,-201.5 197.5,-201.5 197.5,-165.5 2.5,-165.5\"/>\n<text text-anchor=\"middle\" x=\"19\" y=\"-179.8\" font-family=\"Times,serif\" font-size=\"14.00\">w2</text>\n<polyline fill=\"none\" stroke=\"black\" points=\"35.5,-165.5 35.5,-201.5 \"/>\n<text text-anchor=\"middle\" x=\"75.5\" y=\"-179.8\" font-family=\"Times,serif\" font-size=\"14.00\">data 1.0000</text>\n<polyline fill=\"none\" stroke=\"black\" points=\"115.5,-165.5 115.5,-201.5 \"/>\n<text text-anchor=\"middle\" x=\"156.5\" y=\"-179.8\" font-family=\"Times,serif\" font-size=\"14.00\">grad 0.0000</text>\n</g>\n<!-- 137422531486848&#45;&gt;137422422735376* -->\n<g id=\"edge21\" class=\"edge\">\n<title>137422531486848&#45;&gt;137422422735376*</title>\n<path fill=\"none\" stroke=\"black\" d=\"M172.53,-165.44C181.84,-162.67 191.2,-159.67 200,-156.5 210.53,-152.71 221.75,-147.9 231.72,-143.33\"/>\n<polygon fill=\"black\" stroke=\"black\" points=\"233.25,-146.48 240.82,-139.07 230.28,-140.14 233.25,-146.48\"/>\n</g>\n<!-- 137422512933008 -->\n<g id=\"node9\" class=\"node\">\n<title>137422512933008</title>\n<polygon fill=\"none\" stroke=\"black\" points=\"2423,-57.5 2423,-93.5 2605,-93.5 2605,-57.5 2423,-57.5\"/>\n<text text-anchor=\"middle\" x=\"2433\" y=\"-71.8\" font-family=\"Times,serif\" font-size=\"14.00\"> </text>\n<polyline fill=\"none\" stroke=\"black\" points=\"2443,-57.5 2443,-93.5 \"/>\n<text text-anchor=\"middle\" x=\"2483\" y=\"-71.8\" font-family=\"Times,serif\" font-size=\"14.00\">data 0.1464</text>\n<polyline fill=\"none\" stroke=\"black\" points=\"2523,-57.5 2523,-93.5 \"/>\n<text text-anchor=\"middle\" x=\"2564\" y=\"-71.8\" font-family=\"Times,serif\" font-size=\"14.00\">grad 4.8284</text>\n</g>\n<!-- 137422512933008&#45;&gt;137422512940544* -->\n<g id=\"edge11\" class=\"edge\">\n<title>137422512933008&#45;&gt;137422512940544*</title>\n<path fill=\"none\" stroke=\"black\" d=\"M2605.18,-89.15C2614.42,-90.54 2623.38,-91.9 2631.47,-93.12\"/>\n<polygon fill=\"black\" stroke=\"black\" points=\"2631.15,-96.61 2641.56,-94.65 2632.19,-89.69 2631.15,-96.61\"/>\n</g>\n<!-- 137422512933008**&#45;1 -->\n<g id=\"node10\" class=\"node\">\n<title>137422512933008**&#45;1</title>\n<ellipse fill=\"none\" stroke=\"black\" cx=\"2296\" cy=\"-71.5\" rx=\"27\" ry=\"18\"/>\n<text text-anchor=\"middle\" x=\"2296\" y=\"-67.8\" font-family=\"Times,serif\" font-size=\"14.00\">**&#45;1</text>\n</g>\n<!-- 137422512933008**&#45;1&#45;&gt;137422512933008 -->\n<g id=\"edge4\" class=\"edge\">\n<title>137422512933008**&#45;1&#45;&gt;137422512933008</title>\n<path fill=\"none\" stroke=\"black\" d=\"M2323.05,-71.98C2345.53,-72.4 2379.48,-73.03 2412.5,-73.64\"/>\n<polygon fill=\"black\" stroke=\"black\" points=\"2412.64,-77.14 2422.7,-73.83 2412.77,-70.14 2412.64,-77.14\"/>\n</g>\n<!-- 137422422735520 -->\n<g id=\"node11\" class=\"node\">\n<title>137422422735520</title>\n<polygon fill=\"none\" stroke=\"black\" points=\"666,-82.5 666,-118.5 925,-118.5 925,-82.5 666,-82.5\"/>\n<text text-anchor=\"middle\" x=\"712\" y=\"-96.8\" font-family=\"Times,serif\" font-size=\"14.00\">x1w1 + x2w2</text>\n<polyline fill=\"none\" stroke=\"black\" points=\"758,-82.5 758,-118.5 \"/>\n<text text-anchor=\"middle\" x=\"800.5\" y=\"-96.8\" font-family=\"Times,serif\" font-size=\"14.00\">data &#45;6.0000</text>\n<polyline fill=\"none\" stroke=\"black\" points=\"843,-82.5 843,-118.5 \"/>\n<text text-anchor=\"middle\" x=\"884\" y=\"-96.8\" font-family=\"Times,serif\" font-size=\"14.00\">grad 0.5000</text>\n</g>\n<!-- 137422422735520&#45;&gt;137422422735616+ -->\n<g id=\"edge17\" class=\"edge\">\n<title>137422422735520&#45;&gt;137422422735616+</title>\n<path fill=\"none\" stroke=\"black\" d=\"M923.57,-118.51C933.55,-119.92 943,-121.26 951.42,-122.46\"/>\n<polygon fill=\"black\" stroke=\"black\" points=\"951.09,-125.95 961.48,-123.88 952.07,-119.01 951.09,-125.95\"/>\n</g>\n<!-- 137422422735520+&#45;&gt;137422422735520 -->\n<g id=\"edge5\" class=\"edge\">\n<title>137422422735520+&#45;&gt;137422422735520</title>\n<path fill=\"none\" stroke=\"black\" d=\"M630.09,-100.5C637.58,-100.5 646.3,-100.5 655.75,-100.5\"/>\n<polygon fill=\"black\" stroke=\"black\" points=\"655.84,-104 665.84,-100.5 655.84,-97 655.84,-104\"/>\n</g>\n<!-- 137422539902128 -->\n<g id=\"node13\" class=\"node\">\n<title>137422539902128</title>\n<polygon fill=\"none\" stroke=\"black\" points=\"4,-110.5 4,-146.5 196,-146.5 196,-110.5 4,-110.5\"/>\n<text text-anchor=\"middle\" x=\"19\" y=\"-124.8\" font-family=\"Times,serif\" font-size=\"14.00\">x2</text>\n<polyline fill=\"none\" stroke=\"black\" points=\"34,-110.5 34,-146.5 \"/>\n<text text-anchor=\"middle\" x=\"74\" y=\"-124.8\" font-family=\"Times,serif\" font-size=\"14.00\">data 0.0000</text>\n<polyline fill=\"none\" stroke=\"black\" points=\"114,-110.5 114,-146.5 \"/>\n<text text-anchor=\"middle\" x=\"155\" y=\"-124.8\" font-family=\"Times,serif\" font-size=\"14.00\">grad 0.5000</text>\n</g>\n<!-- 137422539902128&#45;&gt;137422422735376* -->\n<g id=\"edge13\" class=\"edge\">\n<title>137422539902128&#45;&gt;137422422735376*</title>\n<path fill=\"none\" stroke=\"black\" d=\"M196.05,-128.5C206.52,-128.5 216.65,-128.5 225.71,-128.5\"/>\n<polygon fill=\"black\" stroke=\"black\" points=\"225.79,-132 235.79,-128.5 225.79,-125 225.79,-132\"/>\n</g>\n<!-- 137422422735040 -->\n<g id=\"node14\" class=\"node\">\n<title>137422422735040</title>\n<polygon fill=\"none\" stroke=\"black\" points=\"1983,-53.5 1983,-89.5 2169,-89.5 2169,-53.5 1983,-53.5\"/>\n<text text-anchor=\"middle\" x=\"1993\" y=\"-67.8\" font-family=\"Times,serif\" font-size=\"14.00\"> </text>\n<polyline fill=\"none\" stroke=\"black\" points=\"2003,-53.5 2003,-89.5 \"/>\n<text text-anchor=\"middle\" x=\"2043\" y=\"-67.8\" font-family=\"Times,serif\" font-size=\"14.00\">data 6.8284</text>\n<polyline fill=\"none\" stroke=\"black\" points=\"2083,-53.5 2083,-89.5 \"/>\n<text text-anchor=\"middle\" x=\"2126\" y=\"-67.8\" font-family=\"Times,serif\" font-size=\"14.00\">grad &#45;0.1036</text>\n</g>\n<!-- 137422422735040&#45;&gt;137422512933008**&#45;1 -->\n<g id=\"edge27\" class=\"edge\">\n<title>137422422735040&#45;&gt;137422512933008**&#45;1</title>\n<path fill=\"none\" stroke=\"black\" d=\"M2169.14,-71.5C2200.72,-71.5 2234.24,-71.5 2258.74,-71.5\"/>\n<polygon fill=\"black\" stroke=\"black\" points=\"2258.98,-75 2268.98,-71.5 2258.98,-68 2258.98,-75\"/>\n</g>\n<!-- 137422422735040+&#45;&gt;137422422735040 -->\n<g id=\"edge6\" class=\"edge\">\n<title>137422422735040+&#45;&gt;137422422735040</title>\n<path fill=\"none\" stroke=\"black\" d=\"M1947.12,-71.5C1954.62,-71.5 1963.29,-71.5 1972.5,-71.5\"/>\n<polygon fill=\"black\" stroke=\"black\" points=\"1972.69,-75 1982.69,-71.5 1972.69,-68 1972.69,-75\"/>\n</g>\n<!-- 137422422736048 -->\n<g id=\"node16\" class=\"node\">\n<title>137422422736048</title>\n<polygon fill=\"none\" stroke=\"black\" points=\"326,-55.5 326,-91.5 540,-91.5 540,-55.5 326,-55.5\"/>\n<text text-anchor=\"middle\" x=\"349.5\" y=\"-69.8\" font-family=\"Times,serif\" font-size=\"14.00\">x1w1</text>\n<polyline fill=\"none\" stroke=\"black\" points=\"373,-55.5 373,-91.5 \"/>\n<text text-anchor=\"middle\" x=\"415.5\" y=\"-69.8\" font-family=\"Times,serif\" font-size=\"14.00\">data &#45;6.0000</text>\n<polyline fill=\"none\" stroke=\"black\" points=\"458,-55.5 458,-91.5 \"/>\n<text text-anchor=\"middle\" x=\"499\" y=\"-69.8\" font-family=\"Times,serif\" font-size=\"14.00\">grad 0.5000</text>\n</g>\n<!-- 137422422736048&#45;&gt;137422422735520+ -->\n<g id=\"edge12\" class=\"edge\">\n<title>137422422736048&#45;&gt;137422422735520+</title>\n<path fill=\"none\" stroke=\"black\" d=\"M540.4,-90.6C549.72,-92.1 558.65,-93.53 566.68,-94.82\"/>\n<polygon fill=\"black\" stroke=\"black\" points=\"566.24,-98.3 576.66,-96.43 567.35,-91.39 566.24,-98.3\"/>\n</g>\n<!-- 137422422736048* -->\n<g id=\"node17\" class=\"node\">\n<title>137422422736048*</title>\n<ellipse fill=\"none\" stroke=\"black\" cx=\"263\" cy=\"-73.5\" rx=\"27\" ry=\"18\"/>\n<text text-anchor=\"middle\" x=\"263\" y=\"-69.8\" font-family=\"Times,serif\" font-size=\"14.00\">*</text>\n</g>\n<!-- 137422422736048*&#45;&gt;137422422736048 -->\n<g id=\"edge7\" class=\"edge\">\n<title>137422422736048*&#45;&gt;137422422736048</title>\n<path fill=\"none\" stroke=\"black\" d=\"M290.25,-73.5C297.7,-73.5 306.34,-73.5 315.59,-73.5\"/>\n<polygon fill=\"black\" stroke=\"black\" points=\"315.84,-77 325.84,-73.5 315.84,-70 315.84,-77\"/>\n</g>\n<!-- 137422424621280 -->\n<g id=\"node18\" class=\"node\">\n<title>137422424621280</title>\n<polygon fill=\"none\" stroke=\"black\" points=\"2,-55.5 2,-91.5 198,-91.5 198,-55.5 2,-55.5\"/>\n<text text-anchor=\"middle\" x=\"17\" y=\"-69.8\" font-family=\"Times,serif\" font-size=\"14.00\">x1</text>\n<polyline fill=\"none\" stroke=\"black\" points=\"32,-55.5 32,-91.5 \"/>\n<text text-anchor=\"middle\" x=\"72\" y=\"-69.8\" font-family=\"Times,serif\" font-size=\"14.00\">data 2.0000</text>\n<polyline fill=\"none\" stroke=\"black\" points=\"112,-55.5 112,-91.5 \"/>\n<text text-anchor=\"middle\" x=\"155\" y=\"-69.8\" font-family=\"Times,serif\" font-size=\"14.00\">grad &#45;1.5000</text>\n</g>\n<!-- 137422424621280&#45;&gt;137422422736048* -->\n<g id=\"edge28\" class=\"edge\">\n<title>137422424621280&#45;&gt;137422422736048*</title>\n<path fill=\"none\" stroke=\"black\" d=\"M198.37,-73.5C208.05,-73.5 217.4,-73.5 225.8,-73.5\"/>\n<polygon fill=\"black\" stroke=\"black\" points=\"225.91,-77 235.91,-73.5 225.91,-70 225.91,-77\"/>\n</g>\n<!-- 137422422735088 -->\n<g id=\"node19\" class=\"node\">\n<title>137422422735088</title>\n<polygon fill=\"none\" stroke=\"black\" points=\"1670.5,-26.5 1670.5,-62.5 1856.5,-62.5 1856.5,-26.5 1670.5,-26.5\"/>\n<text text-anchor=\"middle\" x=\"1680.5\" y=\"-40.8\" font-family=\"Times,serif\" font-size=\"14.00\"> </text>\n<polyline fill=\"none\" stroke=\"black\" points=\"1690.5,-26.5 1690.5,-62.5 \"/>\n<text text-anchor=\"middle\" x=\"1730.5\" y=\"-40.8\" font-family=\"Times,serif\" font-size=\"14.00\">data 1.0000</text>\n<polyline fill=\"none\" stroke=\"black\" points=\"1770.5,-26.5 1770.5,-62.5 \"/>\n<text text-anchor=\"middle\" x=\"1813.5\" y=\"-40.8\" font-family=\"Times,serif\" font-size=\"14.00\">grad &#45;0.1036</text>\n</g>\n<!-- 137422422735088&#45;&gt;137422422735040+ -->\n<g id=\"edge22\" class=\"edge\">\n<title>137422422735088&#45;&gt;137422422735040+</title>\n<path fill=\"none\" stroke=\"black\" d=\"M1856.6,-60.6C1866.15,-62.26 1875.37,-63.88 1883.68,-65.33\"/>\n<polygon fill=\"black\" stroke=\"black\" points=\"1883.2,-68.8 1893.65,-67.07 1884.4,-61.9 1883.2,-68.8\"/>\n</g>\n<!-- 137422422735616 -->\n<g id=\"node20\" class=\"node\">\n<title>137422422735616</title>\n<polygon fill=\"none\" stroke=\"black\" points=\"1051,-109.5 1051,-145.5 1236,-145.5 1236,-109.5 1051,-109.5\"/>\n<text text-anchor=\"middle\" x=\"1062.5\" y=\"-123.8\" font-family=\"Times,serif\" font-size=\"14.00\">n</text>\n<polyline fill=\"none\" stroke=\"black\" points=\"1074,-109.5 1074,-145.5 \"/>\n<text text-anchor=\"middle\" x=\"1114\" y=\"-123.8\" font-family=\"Times,serif\" font-size=\"14.00\">data 0.8814</text>\n<polyline fill=\"none\" stroke=\"black\" points=\"1154,-109.5 1154,-145.5 \"/>\n<text text-anchor=\"middle\" x=\"1195\" y=\"-123.8\" font-family=\"Times,serif\" font-size=\"14.00\">grad 0.5000</text>\n</g>\n<!-- 137422422736288* -->\n<g id=\"node28\" class=\"node\">\n<title>137422422736288*</title>\n<ellipse fill=\"none\" stroke=\"black\" cx=\"1299\" cy=\"-99.5\" rx=\"27\" ry=\"18\"/>\n<text text-anchor=\"middle\" x=\"1299\" y=\"-95.8\" font-family=\"Times,serif\" font-size=\"14.00\">*</text>\n</g>\n<!-- 137422422735616&#45;&gt;137422422736288* -->\n<g id=\"edge14\" class=\"edge\">\n<title>137422422735616&#45;&gt;137422422736288*</title>\n<path fill=\"none\" stroke=\"black\" d=\"M1236.01,-110.81C1245.49,-109.08 1254.66,-107.41 1262.9,-105.9\"/>\n<polygon fill=\"black\" stroke=\"black\" points=\"1263.6,-109.33 1272.81,-104.09 1262.35,-102.45 1263.6,-109.33\"/>\n</g>\n<!-- 137422422735616+&#45;&gt;137422422735616 -->\n<g id=\"edge8\" class=\"edge\">\n<title>137422422735616+&#45;&gt;137422422735616</title>\n<path fill=\"none\" stroke=\"black\" d=\"M1015.04,-127.5C1022.58,-127.5 1031.3,-127.5 1040.57,-127.5\"/>\n<polygon fill=\"black\" stroke=\"black\" points=\"1040.81,-131 1050.81,-127.5 1040.81,-124 1040.81,-131\"/>\n</g>\n<!-- 137422422736672 -->\n<g id=\"node22\" class=\"node\">\n<title>137422422736672</title>\n<polygon fill=\"none\" stroke=\"black\" points=\"1670,-136.5 1670,-172.5 1857,-172.5 1857,-136.5 1670,-136.5\"/>\n<text text-anchor=\"middle\" x=\"1680\" y=\"-150.8\" font-family=\"Times,serif\" font-size=\"14.00\"> </text>\n<polyline fill=\"none\" stroke=\"black\" points=\"1690,-136.5 1690,-172.5 \"/>\n<text text-anchor=\"middle\" x=\"1732.5\" y=\"-150.8\" font-family=\"Times,serif\" font-size=\"14.00\">data &#45;1.0000</text>\n<polyline fill=\"none\" stroke=\"black\" points=\"1775,-136.5 1775,-172.5 \"/>\n<text text-anchor=\"middle\" x=\"1816\" y=\"-150.8\" font-family=\"Times,serif\" font-size=\"14.00\">grad 0.1464</text>\n</g>\n<!-- 137422422736672&#45;&gt;137422422736720+ -->\n<g id=\"edge26\" class=\"edge\">\n<title>137422422736672&#45;&gt;137422422736720+</title>\n<path fill=\"none\" stroke=\"black\" d=\"M1857.05,-137.73C1866.54,-136.01 1875.71,-134.35 1883.95,-132.85\"/>\n<polygon fill=\"black\" stroke=\"black\" points=\"1884.64,-136.28 1893.85,-131.06 1883.39,-129.4 1884.64,-136.28\"/>\n</g>\n<!-- 137422539906352 -->\n<g id=\"node23\" class=\"node\">\n<title>137422539906352</title>\n<polygon fill=\"none\" stroke=\"black\" points=\"0,-0.5 0,-36.5 200,-36.5 200,-0.5 0,-0.5\"/>\n<text text-anchor=\"middle\" x=\"16.5\" y=\"-14.8\" font-family=\"Times,serif\" font-size=\"14.00\">w1</text>\n<polyline fill=\"none\" stroke=\"black\" points=\"33,-0.5 33,-36.5 \"/>\n<text text-anchor=\"middle\" x=\"75.5\" y=\"-14.8\" font-family=\"Times,serif\" font-size=\"14.00\">data &#45;3.0000</text>\n<polyline fill=\"none\" stroke=\"black\" points=\"118,-0.5 118,-36.5 \"/>\n<text text-anchor=\"middle\" x=\"159\" y=\"-14.8\" font-family=\"Times,serif\" font-size=\"14.00\">grad 1.0000</text>\n</g>\n<!-- 137422539906352&#45;&gt;137422422736048* -->\n<g id=\"edge24\" class=\"edge\">\n<title>137422539906352&#45;&gt;137422422736048*</title>\n<path fill=\"none\" stroke=\"black\" d=\"M172.53,-36.56C181.84,-39.33 191.2,-42.33 200,-45.5 210.53,-49.29 221.75,-54.1 231.72,-58.67\"/>\n<polygon fill=\"black\" stroke=\"black\" points=\"230.28,-61.86 240.82,-62.93 233.25,-55.52 230.28,-61.86\"/>\n</g>\n<!-- 137422422736720 -->\n<g id=\"node24\" class=\"node\">\n<title>137422422736720</title>\n<polygon fill=\"none\" stroke=\"black\" points=\"2205,-108.5 2205,-144.5 2387,-144.5 2387,-108.5 2205,-108.5\"/>\n<text text-anchor=\"middle\" x=\"2215\" y=\"-122.8\" font-family=\"Times,serif\" font-size=\"14.00\"> </text>\n<polyline fill=\"none\" stroke=\"black\" points=\"2225,-108.5 2225,-144.5 \"/>\n<text text-anchor=\"middle\" x=\"2265\" y=\"-122.8\" font-family=\"Times,serif\" font-size=\"14.00\">data 4.8284</text>\n<polyline fill=\"none\" stroke=\"black\" points=\"2305,-108.5 2305,-144.5 \"/>\n<text text-anchor=\"middle\" x=\"2346\" y=\"-122.8\" font-family=\"Times,serif\" font-size=\"14.00\">grad 0.1464</text>\n</g>\n<!-- 137422422736720&#45;&gt;137422512940544* -->\n<g id=\"edge16\" class=\"edge\">\n<title>137422422736720&#45;&gt;137422512940544*</title>\n<path fill=\"none\" stroke=\"black\" d=\"M2387.31,-119.9C2448.7,-115.37 2531.76,-109.19 2605,-103.5 2613.42,-102.85 2622.48,-102.13 2631.01,-101.44\"/>\n<polygon fill=\"black\" stroke=\"black\" points=\"2631.37,-104.92 2641.06,-100.63 2630.81,-97.94 2631.37,-104.92\"/>\n</g>\n<!-- 137422422736720+&#45;&gt;137422422736720 -->\n<g id=\"edge9\" class=\"edge\">\n<title>137422422736720+&#45;&gt;137422422736720</title>\n<path fill=\"none\" stroke=\"black\" d=\"M1947,-126.5C1997.46,-126.5 2111.06,-126.5 2194.81,-126.5\"/>\n<polygon fill=\"black\" stroke=\"black\" points=\"2194.87,-130 2204.87,-126.5 2194.87,-123 2194.87,-130\"/>\n</g>\n<!-- 137422422736240 -->\n<g id=\"node26\" class=\"node\">\n<title>137422422736240</title>\n<polygon fill=\"none\" stroke=\"black\" points=\"1052.5,-54.5 1052.5,-90.5 1234.5,-90.5 1234.5,-54.5 1052.5,-54.5\"/>\n<text text-anchor=\"middle\" x=\"1062.5\" y=\"-68.8\" font-family=\"Times,serif\" font-size=\"14.00\"> </text>\n<polyline fill=\"none\" stroke=\"black\" points=\"1072.5,-54.5 1072.5,-90.5 \"/>\n<text text-anchor=\"middle\" x=\"1112.5\" y=\"-68.8\" font-family=\"Times,serif\" font-size=\"14.00\">data 2.0000</text>\n<polyline fill=\"none\" stroke=\"black\" points=\"1152.5,-54.5 1152.5,-90.5 \"/>\n<text text-anchor=\"middle\" x=\"1193.5\" y=\"-68.8\" font-family=\"Times,serif\" font-size=\"14.00\">grad 0.2203</text>\n</g>\n<!-- 137422422736240&#45;&gt;137422422736288* -->\n<g id=\"edge18\" class=\"edge\">\n<title>137422422736240&#45;&gt;137422422736288*</title>\n<path fill=\"none\" stroke=\"black\" d=\"M1234.68,-88.36C1244.61,-90.11 1254.23,-91.8 1262.84,-93.32\"/>\n<polygon fill=\"black\" stroke=\"black\" points=\"1262.36,-96.78 1272.81,-95.07 1263.57,-89.89 1262.36,-96.78\"/>\n</g>\n<!-- 137422422736288 -->\n<g id=\"node27\" class=\"node\">\n<title>137422422736288</title>\n<polygon fill=\"none\" stroke=\"black\" points=\"1362,-81.5 1362,-117.5 1544,-117.5 1544,-81.5 1362,-81.5\"/>\n<text text-anchor=\"middle\" x=\"1372\" y=\"-95.8\" font-family=\"Times,serif\" font-size=\"14.00\"> </text>\n<polyline fill=\"none\" stroke=\"black\" points=\"1382,-81.5 1382,-117.5 \"/>\n<text text-anchor=\"middle\" x=\"1422\" y=\"-95.8\" font-family=\"Times,serif\" font-size=\"14.00\">data 1.7627</text>\n<polyline fill=\"none\" stroke=\"black\" points=\"1462,-81.5 1462,-117.5 \"/>\n<text text-anchor=\"middle\" x=\"1503\" y=\"-95.8\" font-family=\"Times,serif\" font-size=\"14.00\">grad 0.2500</text>\n</g>\n<!-- 137422422736288&#45;&gt;137422422736480exp -->\n<g id=\"edge19\" class=\"edge\">\n<title>137422422736288&#45;&gt;137422422736480exp</title>\n<path fill=\"none\" stroke=\"black\" d=\"M1544.18,-99.5C1553.14,-99.5 1561.83,-99.5 1569.73,-99.5\"/>\n<polygon fill=\"black\" stroke=\"black\" points=\"1569.96,-103 1579.96,-99.5 1569.96,-96 1569.96,-103\"/>\n</g>\n<!-- 137422422736288*&#45;&gt;137422422736288 -->\n<g id=\"edge10\" class=\"edge\">\n<title>137422422736288*&#45;&gt;137422422736288</title>\n<path fill=\"none\" stroke=\"black\" d=\"M1326.13,-99.5C1333.67,-99.5 1342.39,-99.5 1351.64,-99.5\"/>\n<polygon fill=\"black\" stroke=\"black\" points=\"1351.87,-103 1361.87,-99.5 1351.87,-96 1351.87,-103\"/>\n</g>\n</g>\n</svg>\n",
            "text/plain": [
              "<graphviz.graphs.Digraph at 0x7cfc26d94230>"
            ]
          },
          "metadata": {},
          "execution_count": 197
        }
      ]
    },
    {
      "cell_type": "code",
      "source": [
        "import torch"
      ],
      "metadata": {
        "id": "mqklg1Z9m_XK"
      },
      "execution_count": null,
      "outputs": []
    },
    {
      "cell_type": "code",
      "source": [
        "x1 = torch.Tensor([2.0]).double()                ; x1.requires_grad = True\n",
        "x2 = torch.Tensor([0.0]).double()                ; x2.requires_grad = True\n",
        "w1 = torch.Tensor([-3.0]).double()               ; w1.requires_grad = True\n",
        "w2 = torch.Tensor([1.0]).double()                ; w2.requires_grad = True\n",
        "b = torch.Tensor([6.8813735870195432]).double()  ; b.requires_grad = True\n",
        "\n",
        "n = x1 * w1 + x2 * w2 + b\n",
        "o = torch.tanh(n)\n",
        "\n",
        "print(o.data.item())\n",
        "o.backward()\n",
        "\n",
        "print('---')\n",
        "print('x2', x2.grad.item())\n",
        "print('w2', w2.grad.item())\n",
        "print('x1', x1.grad.item())\n",
        "print('w1', w1.grad.item())"
      ],
      "metadata": {
        "colab": {
          "base_uri": "https://localhost:8080/"
        },
        "id": "msjplx6LnFaT",
        "outputId": "02b995a1-eef5-4912-c31d-a8a355210a36"
      },
      "execution_count": null,
      "outputs": [
        {
          "output_type": "stream",
          "name": "stdout",
          "text": [
            "0.7071066904050358\n",
            "---\n",
            "x2 0.5000001283844369\n",
            "w2 0.0\n",
            "x1 -1.5000003851533106\n",
            "w1 1.0000002567688737\n"
          ]
        }
      ]
    },
    {
      "cell_type": "code",
      "source": [
        "o"
      ],
      "metadata": {
        "colab": {
          "base_uri": "https://localhost:8080/"
        },
        "id": "u1De5n1gnrRj",
        "outputId": "377da223-072c-466c-b489-27442f6aa639"
      },
      "execution_count": null,
      "outputs": [
        {
          "output_type": "execute_result",
          "data": {
            "text/plain": [
              "tensor([0.7071], dtype=torch.float64, grad_fn=<TanhBackward0>)"
            ]
          },
          "metadata": {},
          "execution_count": 200
        }
      ]
    },
    {
      "cell_type": "code",
      "source": [
        "class Neuron:\n",
        "    def __init__(self, nin):\n",
        "        self.w = [Value(np.random.uniform(-1, 1)) for _ in range(nin)]\n",
        "        self.b = Value(np.random.uniform(-1, 1))\n",
        "\n",
        "    def __call__(self, x):\n",
        "        # w * x + b\n",
        "        activation = sum((wi * xi for wi, xi in zip(self.w, x)), self.b)\n",
        "        out = activation.tanh()\n",
        "        return out\n",
        "\n",
        "    def parameters(self):\n",
        "        return self.w + [self.b]\n",
        "\n",
        "class Layer:\n",
        "    def __init__(self, nin, nout):\n",
        "        self.neurons = [Neuron(nin) for _ in range(nout)]\n",
        "\n",
        "    def __call__(self, x):\n",
        "        outs = [n(x) for n in self.neurons]\n",
        "        return outs[0] if len(outs) == 1 else outs\n",
        "\n",
        "    def parameters(self):\n",
        "        return [p for neuron in self.neurons for p in neuron.parameters()]\n",
        "\n",
        "\n",
        "class MLP:\n",
        "    def __init__(self, nin, nouts):\n",
        "        sz = [nin] + nouts\n",
        "        self.layers = [Layer(sz[i], sz[i+1]) for i in range(len(nouts))]\n",
        "\n",
        "    def __call__(self, x):\n",
        "        for layer in self.layers:\n",
        "            x = layer(x)\n",
        "        return x\n",
        "\n",
        "    def parameters(self):\n",
        "        return [p for layer in self.layers for p in layer.parameters()]\n"
      ],
      "metadata": {
        "id": "hCx9LYWpoFY6"
      },
      "execution_count": null,
      "outputs": []
    },
    {
      "cell_type": "code",
      "source": [
        "# draw_dot(n(x))"
      ],
      "metadata": {
        "id": "7po0wEEopcTz"
      },
      "execution_count": null,
      "outputs": []
    },
    {
      "cell_type": "code",
      "source": [
        "mlp = MLP(3, [4, 4, 1])"
      ],
      "metadata": {
        "id": "yMieOLDbxqxn"
      },
      "execution_count": null,
      "outputs": []
    },
    {
      "cell_type": "code",
      "source": [
        "len(mlp.parameters())"
      ],
      "metadata": {
        "colab": {
          "base_uri": "https://localhost:8080/"
        },
        "id": "londl2mhxwAY",
        "outputId": "3c7bf183-04f1-4c60-8db8-ed160ab44e88"
      },
      "execution_count": null,
      "outputs": [
        {
          "output_type": "execute_result",
          "data": {
            "text/plain": [
              "41"
            ]
          },
          "metadata": {},
          "execution_count": 256
        }
      ]
    },
    {
      "cell_type": "code",
      "source": [
        "xs = [\n",
        "    [2.0, 3.0, -1.0],\n",
        "    [3.0, -1.0, 0.5],\n",
        "    [0.5, 1.0, 1.0],\n",
        "    [1.0, 1.0, -1.0]\n",
        "]\n",
        "ys = [1.0, -1.0, -1.0, 1.0]"
      ],
      "metadata": {
        "id": "Vzz-gok2tOBj"
      },
      "execution_count": null,
      "outputs": []
    },
    {
      "cell_type": "code",
      "source": [
        "len(mlp.parameters())"
      ],
      "metadata": {
        "colab": {
          "base_uri": "https://localhost:8080/"
        },
        "id": "yck9AXVwx_Gj",
        "outputId": "a6e3e28d-f4ff-478c-d217-628eaf07dd5b"
      },
      "execution_count": null,
      "outputs": [
        {
          "output_type": "execute_result",
          "data": {
            "text/plain": [
              "41"
            ]
          },
          "metadata": {},
          "execution_count": 258
        }
      ]
    },
    {
      "cell_type": "code",
      "source": [
        "min_loss = float(\"inf\")\n",
        "min_loss_parameters = []\n",
        "for k in range(500):\n",
        "    ypred = [mlp(x) for x in xs]\n",
        "    loss = sum([(ygt - yout) ** 2 for ygt, yout in zip(ys, ypred)])\n",
        "    # if loss.data < min_loss:\n",
        "        # min_loss = loss.data\n",
        "        # min_loss_parameters = mlp.parameters().copy()\n",
        "        # print(\"checkpoint saved\")\n",
        "\n",
        "    # set all grads to 0 so that we recalculate them later\n",
        "    for p in mlp.parameters():\n",
        "        p.grad = 0.0\n",
        "    loss.backward()\n",
        "\n",
        "    for p in mlp.parameters():\n",
        "        p.data += -0.1 * p.grad\n",
        "\n",
        "    print(k, loss.data)\n"
      ],
      "metadata": {
        "colab": {
          "base_uri": "https://localhost:8080/"
        },
        "id": "ZOY3nBIN0F1R",
        "outputId": "263e4893-a015-4175-d6f3-376692969bf0"
      },
      "execution_count": null,
      "outputs": [
        {
          "output_type": "stream",
          "name": "stdout",
          "text": [
            "0 0.00013356427133444644\n",
            "1 0.00013347285622570285\n",
            "2 0.00013338156429353414\n",
            "3 0.00013329039529059663\n",
            "4 0.00013319934897022836\n",
            "5 0.00013310842508640743\n",
            "6 0.00013301762339377\n",
            "7 0.0001329269436476129\n",
            "8 0.00013283638560388354\n",
            "9 0.00013274594901916163\n",
            "10 0.0001326556336506945\n",
            "11 0.0001325654392563649\n",
            "12 0.00013247536559469336\n",
            "13 0.00013238541242484666\n",
            "14 0.0001322955795066282\n",
            "15 0.0001322058666004783\n",
            "16 0.00013211627346747007\n",
            "17 0.00013202679986930782\n",
            "18 0.00013193744556832724\n",
            "19 0.000131848210327491\n",
            "20 0.00013175909391038593\n",
            "21 0.0001316700960812199\n",
            "22 0.00013158121660483018\n",
            "23 0.00013149245524666782\n",
            "24 0.00013140381177280654\n",
            "25 0.00013131528594992423\n",
            "26 0.00013122687754532235\n",
            "27 0.0001311385863269096\n",
            "28 0.00013105041206320833\n",
            "29 0.0001309623545233392\n",
            "30 0.00013087441347703864\n",
            "31 0.00013078658869463853\n",
            "32 0.00013069887994707666\n",
            "33 0.00013061128700588533\n",
            "34 0.00013052380964320373\n",
            "35 0.0001304364476317549\n",
            "36 0.0001303492007448651\n",
            "37 0.00013026206875644685\n",
            "38 0.00013017505144100115\n",
            "39 0.00013008814857362814\n",
            "40 0.0001300013599299924\n",
            "41 0.00012991468528636549\n",
            "42 0.00012982812441958674\n",
            "43 0.00012974167710708205\n",
            "44 0.00012965534312684904\n",
            "45 0.00012956912225746972\n",
            "46 0.0001294830142780974\n",
            "47 0.00012939701896845634\n",
            "48 0.00012931113610883946\n",
            "49 0.00012922536548011737\n",
            "50 0.00012913970686372653\n",
            "51 0.00012905416004165612\n",
            "52 0.00012896872479647417\n",
            "53 0.00012888340091130225\n",
            "54 0.00012879818816982153\n",
            "55 0.00012871308635627827\n",
            "56 0.00012862809525546754\n",
            "57 0.00012854321465273995\n",
            "58 0.0001284584443340033\n",
            "59 0.0001283737840857137\n",
            "60 0.00012828923369487713\n",
            "61 0.000128204792949043\n",
            "62 0.0001281204616363108\n",
            "63 0.0001280362395453273\n",
            "64 0.00012795212646526924\n",
            "65 0.0001278681221858715\n",
            "66 0.00012778422649738664\n",
            "67 0.00012770043919062374\n",
            "68 0.0001276167600569168\n",
            "69 0.00012753318888813426\n",
            "70 0.00012744972547668173\n",
            "71 0.0001273663696154859\n",
            "72 0.00012728312109800715\n",
            "73 0.00012719997971823605\n",
            "74 0.000127116945270683\n",
            "75 0.00012703401755038786\n",
            "76 0.00012695119635290414\n",
            "77 0.0001268684814743081\n",
            "78 0.00012678587271120032\n",
            "79 0.00012670336986069175\n",
            "80 0.00012662097272041098\n",
            "81 0.0001265386810885004\n",
            "82 0.00012645649476361544\n",
            "83 0.00012637441354491742\n",
            "84 0.00012629243723208047\n",
            "85 0.00012621056562529056\n",
            "86 0.00012612879852522417\n",
            "87 0.0001260471357330774\n",
            "88 0.00012596557705054015\n",
            "89 0.00012588412227980473\n",
            "90 0.00012580277122356908\n",
            "91 0.00012572152368501581\n",
            "92 0.0001256403794678344\n",
            "93 0.00012555933837620257\n",
            "94 0.00012547840021479668\n",
            "95 0.00012539756478878005\n",
            "96 0.0001253168319038101\n",
            "97 0.00012523620136602512\n",
            "98 0.000125155672982058\n",
            "99 0.00012507524655902026\n",
            "100 0.00012499492190451566\n",
            "101 0.00012491469882662325\n",
            "102 0.00012483457713390297\n",
            "103 0.00012475455663540027\n",
            "104 0.00012467463714062706\n",
            "105 0.00012459481845958462\n",
            "106 0.0001245151004027387\n",
            "107 0.00012443548278103888\n",
            "108 0.0001243559654058884\n",
            "109 0.0001242765480891829\n",
            "110 0.00012419723064327286\n",
            "111 0.00012411801288098008\n",
            "112 0.00012403889461559068\n",
            "113 0.000123959875660859\n",
            "114 0.0001238809558309981\n",
            "115 0.00012380213494068678\n",
            "116 0.0001237234128050624\n",
            "117 0.00012364478923971802\n",
            "118 0.00012356626406071118\n",
            "119 0.0001234878370845451\n",
            "120 0.00012340950812818734\n",
            "121 0.00012333127700905644\n",
            "122 0.00012325314354501483\n",
            "123 0.00012317510755438963\n",
            "124 0.00012309716885594083\n",
            "125 0.0001230193272688899\n",
            "126 0.00012294158261290017\n",
            "127 0.00012286393470807092\n",
            "128 0.00012278638337495548\n",
            "129 0.0001227089284345481\n",
            "130 0.00012263156970828134\n",
            "131 0.00012255430701802432\n",
            "132 0.0001224771401860912\n",
            "133 0.00012240006903522558\n",
            "134 0.00012232309338861474\n",
            "135 0.00012224621306986856\n",
            "136 0.00012216942790304307\n",
            "137 0.0001220927377126142\n",
            "138 0.00012201614232349535\n",
            "139 0.00012193964156102392\n",
            "140 0.00012186323525096816\n",
            "141 0.00012178692321952172\n",
            "142 0.00012171070529329681\n",
            "143 0.00012163458129934099\n",
            "144 0.00012155855106511771\n",
            "145 0.00012148261441851188\n",
            "146 0.00012140677118782178\n",
            "147 0.00012133102120177744\n",
            "148 0.00012125536428951114\n",
            "149 0.00012117980028058603\n",
            "150 0.00012110432900496643\n",
            "151 0.00012102895029304152\n",
            "152 0.00012095366397560345\n",
            "153 0.00012087846988386037\n",
            "154 0.00012080336784942649\n",
            "155 0.00012072835770432876\n",
            "156 0.00012065343928099529\n",
            "157 0.00012057861241226929\n",
            "158 0.00012050387693138933\n",
            "159 0.00012042923267200159\n",
            "160 0.00012035467946815188\n",
            "161 0.00012028021715429496\n",
            "162 0.00012020584556527765\n",
            "163 0.00012013156453634045\n",
            "164 0.0001200573739031379\n",
            "165 0.00011998327350170763\n",
            "166 0.00011990926316848702\n",
            "167 0.00011983534274030152\n",
            "168 0.00011976151205437909\n",
            "169 0.00011968777094833072\n",
            "170 0.00011961411926015737\n",
            "171 0.00011954055682826528\n",
            "172 0.0001194670834914199\n",
            "173 0.00011939369908879917\n",
            "174 0.00011932040345995665\n",
            "175 0.00011924719644483228\n",
            "176 0.00011917407788373998\n",
            "177 0.00011910104761739285\n",
            "178 0.00011902810548686946\n",
            "179 0.0001189552513336386\n",
            "180 0.000118882484999544\n",
            "181 0.0001188098063268067\n",
            "182 0.00011873721515802383\n",
            "183 0.00011866471133617056\n",
            "184 0.00011859229470459109\n",
            "185 0.00011851996510701038\n",
            "186 0.00011844772238752305\n",
            "187 0.00011837556639059189\n",
            "188 0.00011830349696104135\n",
            "189 0.00011823151394408908\n",
            "190 0.00011815961718530048\n",
            "191 0.00011808780653060428\n",
            "192 0.00011801608182631648\n",
            "193 0.0001179444429190955\n",
            "194 0.0001178728896559704\n",
            "195 0.00011780142188434086\n",
            "196 0.00011773003945195657\n",
            "197 0.00011765874220693296\n",
            "198 0.00011758752999774285\n",
            "199 0.00011751640267321735\n",
            "200 0.00011744536008254553\n",
            "201 0.00011737440207526772\n",
            "202 0.00011730352850128436\n",
            "203 0.00011723273921085616\n",
            "204 0.00011716203405457607\n",
            "205 0.00011709141288341155\n",
            "206 0.00011702087554866359\n",
            "207 0.00011695042190199432\n",
            "208 0.00011688005179540963\n",
            "209 0.00011680976508126104\n",
            "210 0.00011673956161225443\n",
            "211 0.00011666944124142963\n",
            "212 0.0001165994038221811\n",
            "213 0.00011652944920824617\n",
            "214 0.00011645957725369527\n",
            "215 0.00011638978781295516\n",
            "216 0.00011632008074078039\n",
            "217 0.00011625045589227004\n",
            "218 0.00011618091312286228\n",
            "219 0.0001161114522883347\n",
            "220 0.00011604207324479174\n",
            "221 0.00011597277584868997\n",
            "222 0.00011590355995680628\n",
            "223 0.00011583442542625694\n",
            "224 0.00011576537211449475\n",
            "225 0.00011569639987929665\n",
            "226 0.00011562750857877445\n",
            "227 0.00011555869807136865\n",
            "228 0.0001154899682158484\n",
            "229 0.0001154213188713134\n",
            "230 0.00011535274989718823\n",
            "231 0.00011528426115322397\n",
            "232 0.00011521585249949661\n",
            "233 0.00011514752379640982\n",
            "234 0.00011507927490468132\n",
            "235 0.00011501110568536316\n",
            "236 0.00011494301599981511\n",
            "237 0.00011487500570972858\n",
            "238 0.00011480707467711462\n",
            "239 0.00011473922276429287\n",
            "240 0.00011467144983391116\n",
            "241 0.00011460375574892544\n",
            "242 0.00011453614037261462\n",
            "243 0.00011446860356857032\n",
            "244 0.0001144011452006966\n",
            "245 0.00011433376513321313\n",
            "246 0.00011426646323064679\n",
            "247 0.0001141992393578423\n",
            "248 0.00011413209337995139\n",
            "249 0.00011406502516243724\n",
            "250 0.00011399803457107054\n",
            "251 0.00011393112147192536\n",
            "252 0.00011386428573139012\n",
            "253 0.00011379752721615739\n",
            "254 0.00011373084579322\n",
            "255 0.00011366424132988247\n",
            "256 0.00011359771369374842\n",
            "257 0.00011353126275272391\n",
            "258 0.00011346488837501393\n",
            "259 0.00011339859042913531\n",
            "260 0.00011333236878389023\n",
            "261 0.00011326622330838887\n",
            "262 0.00011320015387204367\n",
            "263 0.00011313416034455079\n",
            "264 0.00011306824259591697\n",
            "265 0.00011300240049643564\n",
            "266 0.00011293663391669917\n",
            "267 0.00011287094272758973\n",
            "268 0.00011280532680029405\n",
            "269 0.00011273978600627799\n",
            "270 0.00011267432021730361\n",
            "271 0.00011260892930542487\n",
            "272 0.00011254361314298671\n",
            "273 0.00011247837160261755\n",
            "274 0.00011241320455724599\n",
            "275 0.00011234811188007434\n",
            "276 0.00011228309344460115\n",
            "277 0.00011221814912460468\n",
            "278 0.00011215327879415067\n",
            "279 0.00011208848232759284\n",
            "280 0.00011202375959956301\n",
            "281 0.00011195911048497196\n",
            "282 0.00011189453485902867\n",
            "283 0.00011183003259720422\n",
            "284 0.0001117656035752635\n",
            "285 0.00011170124766923855\n",
            "286 0.0001116369647554541\n",
            "287 0.00011157275471050532\n",
            "288 0.00011150861741126242\n",
            "289 0.00011144455273487215\n",
            "290 0.00011138056055876536\n",
            "291 0.00011131664076063891\n",
            "292 0.00011125279321846733\n",
            "293 0.00011118901781049487\n",
            "294 0.0001111253144152494\n",
            "295 0.00011106168291151264\n",
            "296 0.0001109981231783488\n",
            "297 0.0001109346350950956\n",
            "298 0.0001108712185413514\n",
            "299 0.00011080787339698948\n",
            "300 0.00011074459954214525\n",
            "301 0.00011068139685723184\n",
            "302 0.00011061826522291223\n",
            "303 0.00011055520452013381\n",
            "304 0.00011049221463009593\n",
            "305 0.00011042929543426633\n",
            "306 0.00011036644681437977\n",
            "307 0.00011030366865242568\n",
            "308 0.00011024096083066395\n",
            "309 0.00011017832323161525\n",
            "310 0.00011011575573805\n",
            "311 0.000110053258233013\n",
            "312 0.00010999083059979972\n",
            "313 0.0001099284727219676\n",
            "314 0.00010986618448333006\n",
            "315 0.00010980396576795685\n",
            "316 0.00010974181646017958\n",
            "317 0.00010967973644457778\n",
            "318 0.00010961772560598668\n",
            "319 0.00010955578382950783\n",
            "320 0.00010949391100048057\n",
            "321 0.00010943210700450086\n",
            "322 0.00010937037172742723\n",
            "323 0.00010930870505535998\n",
            "324 0.00010924710687464896\n",
            "325 0.0001091855770719004\n",
            "326 0.00010912411553396493\n",
            "327 0.00010906272214794644\n",
            "328 0.00010900139680119576\n",
            "329 0.00010894013938130581\n",
            "330 0.00010887894977612341\n",
            "331 0.00010881782787373301\n",
            "332 0.00010875677356247334\n",
            "333 0.00010869578673092714\n",
            "334 0.00010863486726791545\n",
            "335 0.00010857401506250095\n",
            "336 0.00010851323000400175\n",
            "337 0.00010845251198195984\n",
            "338 0.00010839186088617417\n",
            "339 0.00010833127660667889\n",
            "340 0.00010827075903374823\n",
            "341 0.00010821030805789137\n",
            "342 0.00010814992356986288\n",
            "343 0.00010808960546064973\n",
            "344 0.00010802935362148202\n",
            "345 0.00010796916794382476\n",
            "346 0.00010790904831937891\n",
            "347 0.00010784899464007464\n",
            "348 0.0001077890067980908\n",
            "349 0.00010772908468582469\n",
            "350 0.0001076692281959152\n",
            "351 0.00010760943722124363\n",
            "352 0.00010754971165490021\n",
            "353 0.00010749005139023181\n",
            "354 0.00010743045632079718\n",
            "355 0.0001073709263403975\n",
            "356 0.00010731146134306294\n",
            "357 0.00010725206122304029\n",
            "358 0.00010719272587482178\n",
            "359 0.00010713345519311574\n",
            "360 0.00010707424907286688\n",
            "361 0.00010701510740923974\n",
            "362 0.00010695603009762433\n",
            "363 0.00010689701703364502\n",
            "364 0.00010683806811313858\n",
            "365 0.00010677918323217828\n",
            "366 0.00010672036228705483\n",
            "367 0.00010666160517428082\n",
            "368 0.00010660291179059593\n",
            "369 0.00010654428203295718\n",
            "370 0.00010648571579854383\n",
            "371 0.00010642721298475955\n",
            "372 0.00010636877348922411\n",
            "373 0.00010631039720978056\n",
            "374 0.00010625208404448421\n",
            "375 0.00010619383389161812\n",
            "376 0.00010613564664967601\n",
            "377 0.00010607752221737321\n",
            "378 0.0001060194604936366\n",
            "379 0.00010596146137761184\n",
            "380 0.00010590352476866333\n",
            "381 0.00010584565056637059\n",
            "382 0.00010578783867051366\n",
            "383 0.00010573008898110396\n",
            "384 0.00010567240139836031\n",
            "385 0.000105614775822709\n",
            "386 0.00010555721215479574\n",
            "387 0.00010549971029547519\n",
            "388 0.00010544227014580877\n",
            "389 0.00010538489160707136\n",
            "390 0.000105327574580755\n",
            "391 0.00010527031896854536\n",
            "392 0.00010521312467234848\n",
            "393 0.00010515599159427612\n",
            "394 0.00010509891963664749\n",
            "395 0.00010504190870199069\n",
            "396 0.00010498495869303582\n",
            "397 0.00010492806951271763\n",
            "398 0.00010487124106418651\n",
            "399 0.00010481447325078809\n",
            "400 0.00010475776597607257\n",
            "401 0.00010470111914380096\n",
            "402 0.00010464453265793508\n",
            "403 0.00010458800642263321\n",
            "404 0.00010453154034225905\n",
            "405 0.0001044751343213873\n",
            "406 0.00010441878826477718\n",
            "407 0.00010436250207740313\n",
            "408 0.00010430627566443408\n",
            "409 0.00010425010893123412\n",
            "410 0.00010419400178337279\n",
            "411 0.00010413795412661221\n",
            "412 0.00010408196586692345\n",
            "413 0.00010402603691046235\n",
            "414 0.00010397016716358603\n",
            "415 0.00010391435653285278\n",
            "416 0.00010385860492501207\n",
            "417 0.0001038029122470083\n",
            "418 0.0001037472784059822\n",
            "419 0.00010369170330927262\n",
            "420 0.00010363618686440624\n",
            "421 0.0001035807289791045\n",
            "422 0.0001035253295612831\n",
            "423 0.00010346998851905445\n",
            "424 0.00010341470576071292\n",
            "425 0.00010335948119475024\n",
            "426 0.00010330431472984521\n",
            "427 0.00010324920627487942\n",
            "428 0.0001031941557389087\n",
            "429 0.00010313916303118206\n",
            "430 0.00010308422806114666\n",
            "431 0.0001030293507384283\n",
            "432 0.00010297453097284277\n",
            "433 0.00010291976867439704\n",
            "434 0.00010286506375328054\n",
            "435 0.00010281041611987025\n",
            "436 0.00010275582568472986\n",
            "437 0.00010270129235860926\n",
            "438 0.00010264681605244409\n",
            "439 0.00010259239667734635\n",
            "440 0.00010253803414463105\n",
            "441 0.00010248372836577197\n",
            "442 0.00010242947925244493\n",
            "443 0.00010237528671650328\n",
            "444 0.00010232115066997915\n",
            "445 0.00010226707102508747\n",
            "446 0.00010221304769422923\n",
            "447 0.00010215908058997496\n",
            "448 0.00010210516962509156\n",
            "449 0.00010205131471251332\n",
            "450 0.00010199751576535636\n",
            "451 0.00010194377269692085\n",
            "452 0.00010189008542067813\n",
            "453 0.00010183645385028432\n",
            "454 0.00010178287789956875\n",
            "455 0.00010172935748253733\n",
            "456 0.0001016758925133744\n",
            "457 0.00010162248290644005\n",
            "458 0.00010156912857627559\n",
            "459 0.00010151582943758443\n",
            "460 0.00010146258540525933\n",
            "461 0.00010140939639435766\n",
            "462 0.00010135626232011384\n",
            "463 0.00010130318309794043\n",
            "464 0.00010125015864341322\n",
            "465 0.00010119718887228618\n",
            "466 0.00010114427370048879\n",
            "467 0.0001010914130441136\n",
            "468 0.00010103860681943516\n",
            "469 0.00010098585494288897\n",
            "470 0.00010093315733108686\n",
            "471 0.00010088051390081074\n",
            "472 0.00010082792456900705\n",
            "473 0.00010077538925279473\n",
            "474 0.00010072290786946449\n",
            "475 0.00010067048033647155\n",
            "476 0.00010061810657143816\n",
            "477 0.00010056578649215379\n",
            "478 0.00010051352001658008\n",
            "479 0.00010046130706284336\n",
            "480 0.00010040914754922835\n",
            "481 0.00010035704139419439\n",
            "482 0.00010030498851636396\n",
            "483 0.00010025298883452495\n",
            "484 0.00010020104226762675\n",
            "485 0.00010014914873478399\n",
            "486 0.00010009730815528005\n",
            "487 0.00010004552044854843\n",
            "488 9.999378553420413e-05\n",
            "489 9.994210333201096e-05\n",
            "490 9.989047376189422e-05\n",
            "491 9.983889674394892e-05\n",
            "492 9.97873721984267e-05\n",
            "493 9.973590004574066e-05\n",
            "494 9.968448020646346e-05\n",
            "495 9.963311260133032e-05\n",
            "496 9.958179715123002e-05\n",
            "497 9.953053377722112e-05\n",
            "498 9.947932240050657e-05\n",
            "499 9.942816294246392e-05\n"
          ]
        }
      ]
    },
    {
      "cell_type": "code",
      "source": [
        "min_loss_parameters != mlp.parameters()"
      ],
      "metadata": {
        "colab": {
          "base_uri": "https://localhost:8080/"
        },
        "id": "0Yusd-7z0Cm6",
        "outputId": "c379adfd-8a58-42c9-f1eb-522b8521509f"
      },
      "execution_count": null,
      "outputs": [
        {
          "output_type": "execute_result",
          "data": {
            "text/plain": [
              "True"
            ]
          },
          "metadata": {},
          "execution_count": 265
        }
      ]
    },
    {
      "cell_type": "code",
      "source": [],
      "metadata": {
        "id": "4A8IJ8rB3A-q"
      },
      "execution_count": null,
      "outputs": []
    }
  ]
}